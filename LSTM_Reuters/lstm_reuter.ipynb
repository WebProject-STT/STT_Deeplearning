{
 "cells": [
  {
   "cell_type": "markdown",
   "metadata": {},
   "source": [
    "### 1. LSTM을 이용한 로이터 뉴스 카테고리 분류하기"
   ]
  },
  {
   "cell_type": "code",
   "execution_count": 2,
   "metadata": {},
   "outputs": [
    {
     "data": {
      "text/plain": [
       "'2.2.0'"
      ]
     },
     "execution_count": 2,
     "metadata": {},
     "output_type": "execute_result"
    }
   ],
   "source": [
    "import tensorflow\n",
    "tensorflow.__version__"
   ]
  },
  {
   "cell_type": "code",
   "execution_count": 3,
   "metadata": {},
   "outputs": [],
   "source": [
    "# 로이터 뉴스 데이터셋 불러오기\n",
    "from keras.datasets import reuters"
   ]
  },
  {
   "cell_type": "code",
   "execution_count": 4,
   "metadata": {},
   "outputs": [
    {
     "name": "stderr",
     "output_type": "stream",
     "text": [
      "c:\\users\\msi\\appdata\\local\\programs\\python\\python37\\lib\\site-packages\\tensorflow\\python\\keras\\datasets\\reuters.py:148: VisibleDeprecationWarning: Creating an ndarray from ragged nested sequences (which is a list-or-tuple of lists-or-tuples-or ndarrays with different lengths or shapes) is deprecated. If you meant to do this, you must specify 'dtype=object' when creating the ndarray\n",
      "  x_train, y_train = np.array(xs[:idx]), np.array(labels[:idx])\n",
      "c:\\users\\msi\\appdata\\local\\programs\\python\\python37\\lib\\site-packages\\tensorflow\\python\\keras\\datasets\\reuters.py:149: VisibleDeprecationWarning: Creating an ndarray from ragged nested sequences (which is a list-or-tuple of lists-or-tuples-or ndarrays with different lengths or shapes) is deprecated. If you meant to do this, you must specify 'dtype=object' when creating the ndarray\n",
      "  x_test, y_test = np.array(xs[idx:]), np.array(labels[idx:])\n"
     ]
    }
   ],
   "source": [
    "# 불러온 데이터를 학습셋과 테스트셋으로 나누기\n",
    "(X_train, Y_train), (X_test, Y_test) = reuters.load_data(num_words=1000, test_split=0.2)"
   ]
  },
  {
   "cell_type": "markdown",
   "metadata": {},
   "source": [
    "test_split 인자를 통해 20%를 테스트셋으로 사용"
   ]
  },
  {
   "cell_type": "code",
   "execution_count": 5,
   "metadata": {},
   "outputs": [
    {
     "name": "stdout",
     "output_type": "stream",
     "text": [
      "46 카테고리\n",
      "8982 학습용 뉴스 기사\n",
      "2246 테스트용 뉴스 기사\n"
     ]
    }
   ],
   "source": [
    "# 데이터 확인 후 출력\n",
    "import numpy as np\n",
    "category = np.max(Y_train) + 1\n",
    "print(category, '카테고리')\n",
    "print(len(X_train), '학습용 뉴스 기사')\n",
    "print(len(X_test), '테스트용 뉴스 기사')\n"
   ]
  },
  {
   "cell_type": "code",
   "execution_count": 6,
   "metadata": {},
   "outputs": [
    {
     "name": "stdout",
     "output_type": "stream",
     "text": [
      "[1, 2, 2, 8, 43, 10, 447, 5, 25, 207, 270, 5, 2, 111, 16, 369, 186, 90, 67, 7, 89, 5, 19, 102, 6, 19, 124, 15, 90, 67, 84, 22, 482, 26, 7, 48, 4, 49, 8, 864, 39, 209, 154, 6, 151, 6, 83, 11, 15, 22, 155, 11, 15, 7, 48, 9, 2, 2, 504, 6, 258, 6, 272, 11, 15, 22, 134, 44, 11, 15, 16, 8, 197, 2, 90, 67, 52, 29, 209, 30, 32, 132, 6, 109, 15, 17, 12]\n"
     ]
    }
   ],
   "source": [
    "\"\"\"\n",
    "단어를 그대로 사용하지 않고 숫자로 변환한 다음 힉습한다.\n",
    "여기서는 데이터 안에서 해당 단어가 몇 번이나 나타나는지 세어 빈도에 따라 번호를 붙였습니다.\n",
    "기사 안의 모든 단어를 다 사용하는 것은 비효율적이므로 빈도가 높은 단어만 불러와 사용한다.\n",
    "이때 사용하는 인자가 바로 테스트셋과 학습셋으로 나눌 때 함께 적용했던 num_word=1000이다.\n",
    "빈도가 1~1,000에 해당하는 단어만 선택해서 불러온다.\n",
    "\"\"\"\n",
    "print(X_train[0])"
   ]
  },
  {
   "cell_type": "code",
   "execution_count": 7,
   "metadata": {},
   "outputs": [
    {
     "name": "stdout",
     "output_type": "stream",
     "text": [
      "각 레이블에 대한 빈도수:\n",
      "[[   0    1    2    3    4    5    6    7    8    9   10   11   12   13\n",
      "    14   15   16   17   18   19   20   21   22   23   24   25   26   27\n",
      "    28   29   30   31   32   33   34   35   36   37   38   39   40   41\n",
      "    42   43   44   45]\n",
      " [  55  432   74 3159 1949   17   48   16  139  101  124  390   49  172\n",
      "    26   20  444   39   66  549  269  100   15   41   62   92   24   15\n",
      "    48   19   45   39   32   11   50   10   49   19   19   24   36   30\n",
      "    13   21   12   18]]\n"
     ]
    }
   ],
   "source": [
    "# 3, 4가 가장 많은 레이블을 차지하는 것을 확인할 수 있다.\n",
    "unique_elements, counts_elements = np.unique(Y_train, return_counts=True)\n",
    "print(\"각 레이블에 대한 빈도수:\")\n",
    "print(np.asarray((unique_elements, counts_elements)))\n",
    "# label_cnt=dict(zip(unique_elements, counts_elements))\n",
    "# 아래의 출력 결과가 보기 불편하여 병렬로 보고싶다면 위의 label_cnt를 출력"
   ]
  },
  {
   "cell_type": "code",
   "execution_count": 8,
   "metadata": {},
   "outputs": [],
   "source": [
    "from tensorflow.keras.models import Sequential\n",
    "from tensorflow.keras.layers import Dense, LSTM, Embedding\n",
    "from tensorflow.keras.preprocessing.sequence import pad_sequences\n",
    "from tensorflow.keras.utils import to_categorical\n",
    "from tensorflow.keras.callbacks import EarlyStopping, ModelCheckpoint\n",
    "from tensorflow.keras.models import load_model"
   ]
  },
  {
   "cell_type": "code",
   "execution_count": 9,
   "metadata": {},
   "outputs": [],
   "source": [
    "\"\"\"\n",
    "각 기사의 단어 수가 제각각 다르므로 이를 동일하게 맞춰야 한다.\n",
    "이때는 다음과 같이 데이터 전처리 함수 sequence()를 이용한다.\n",
    "maxlen=100은 단어 수를 100개로 맞춘다.\n",
    "만일 입력된 기사의 단어 수가 100보다 크면 100개째 단어만 선택하고 나머지는 버립니다.\n",
    "100에서 모자랄 때는 모자라는 부분을 모두 0으로 채웁니다.\n",
    "\"\"\"\n",
    "from keras.preprocessing import sequence\n",
    "  \n",
    "# 데이터 전처리\n",
    "x_train = sequence.pad_sequences(X_train, maxlen=100)\n",
    "x_test = sequence.pad_sequences(X_test, maxlen=100)"
   ]
  },
  {
   "cell_type": "code",
   "execution_count": 10,
   "metadata": {},
   "outputs": [],
   "source": [
    "#  y 데이터에 원-핫 인코딩 처리를 하여 데이터 전처리 과정을 마친다.\n",
    "# 데이터 전처리\n",
    "y_train = to_categorical(Y_train)\n",
    "y_test = to_categorical(Y_test)"
   ]
  },
  {
   "cell_type": "markdown",
   "metadata": {},
   "source": [
    "* Embedding 층은 데이터 전처리 과정을 통해 입력된 값을 받아 다음 층이 알아들을 수 있는 형태로 변환하는 역할\n",
    "* Embedding('불러온 단어의 총 개수', '기사당 단어 수') 형식\n",
    "<br>\n",
    "<br>\n",
    "* LSTM은 앞서 설명했듯이 RNN에서 기억 값에 대한 가중치를 제어하며, LSTM(기사당 단어 수, 기타 옵션)의 형식으로 적용\n",
    "* LSTM의 활성화 함수로는 tanh를 사용\n",
    "<br>\n",
    "<br>\n",
    "* 46개의 카테고리를 분류해야하므로, 출력층에서는 46개의 뉴런을 사용"
   ]
  },
  {
   "cell_type": "code",
   "execution_count": 11,
   "metadata": {},
   "outputs": [],
   "source": [
    "# 모델의 설정\n",
    "model = Sequential()\n",
    "model.add(Embedding(1000, 100))\n",
    "model.add(LSTM(100, activation='tanh'))\n",
    "model.add(Dense(46, activation='softmax'))"
   ]
  },
  {
   "cell_type": "markdown",
   "metadata": {},
   "source": [
    "* 검증 데이터 손실(val_loss)이 증가하면, 과적합 징후므로 검증 데이터 손실이 4회 증가하면 학습을 조기 종료(Early Stopping)한다.\n",
    "* ModelCheckpoint를 사용하여 검증 데이터의 정확도(val_acc)가 이전보다 좋아질 경우에만 모델을 저장한다."
   ]
  },
  {
   "cell_type": "code",
   "execution_count": 12,
   "metadata": {},
   "outputs": [],
   "source": [
    "es = EarlyStopping(monitor='val_loss', mode='min', verbose=1, patience=4)\n",
    "mc = ModelCheckpoint('best_model.h5', monitor='val_acc', mode='max', verbose=1, save_best_only=True)"
   ]
  },
  {
   "cell_type": "markdown",
   "metadata": {},
   "source": [
    "* 다중 클래스 분류(Multi-Class Classification) 문제이므로 손실 함수로는 categorical_crossentropy를 사용한다.\n",
    "* categorical_crossentropy는 모델의 예측값과 실제값에 대해서 두 확률 분포 사이의 거리를 최소화하도록 훈련한다."
   ]
  },
  {
   "cell_type": "code",
   "execution_count": 13,
   "metadata": {},
   "outputs": [],
   "source": [
    "model.compile(loss='categorical_crossentropy', optimizer='adam', metrics=['acc'])"
   ]
  },
  {
   "cell_type": "markdown",
   "metadata": {},
   "source": [
    "* 모델을 학습합니다. validation_data로 X_test와 y_test를 사용합니다.\n",
    "* val_loss가 줄어들다가 증가하는 상황이 오면 과적합(overfitting)으로 판단하기 위함입니다."
   ]
  },
  {
   "cell_type": "code",
   "execution_count": 16,
   "metadata": {},
   "outputs": [
    {
     "name": "stdout",
     "output_type": "stream",
     "text": [
      "Epoch 1/30\n",
      "70/71 [============================>.] - ETA: 0s - loss: 2.1233 - acc: 0.4604\n",
      "Epoch 00001: val_acc improved from -inf to 0.48798, saving model to best_model.h5\n",
      "71/71 [==============================] - 7s 100ms/step - loss: 2.1227 - acc: 0.4606 - val_loss: 2.0255 - val_acc: 0.4880\n",
      "Epoch 2/30\n",
      "70/71 [============================>.] - ETA: 0s - loss: 1.9029 - acc: 0.5040\n",
      "Epoch 00002: val_acc improved from 0.48798 to 0.51024, saving model to best_model.h5\n",
      "71/71 [==============================] - 7s 95ms/step - loss: 1.9022 - acc: 0.5039 - val_loss: 1.8211 - val_acc: 0.5102\n",
      "Epoch 3/30\n",
      "70/71 [============================>.] - ETA: 0s - loss: 1.7326 - acc: 0.5484\n",
      "Epoch 00003: val_acc improved from 0.51024 to 0.54987, saving model to best_model.h5\n",
      "71/71 [==============================] - 7s 96ms/step - loss: 1.7332 - acc: 0.5485 - val_loss: 1.7464 - val_acc: 0.5499\n",
      "Epoch 4/30\n",
      "70/71 [============================>.] - ETA: 0s - loss: 1.6707 - acc: 0.5708\n",
      "Epoch 00004: val_acc improved from 0.54987 to 0.57079, saving model to best_model.h5\n",
      "71/71 [==============================] - 7s 97ms/step - loss: 1.6690 - acc: 0.5710 - val_loss: 1.6957 - val_acc: 0.5708\n",
      "Epoch 5/30\n",
      "70/71 [============================>.] - ETA: 0s - loss: 1.5906 - acc: 0.5915\n",
      "Epoch 00005: val_acc did not improve from 0.57079\n",
      "71/71 [==============================] - 7s 95ms/step - loss: 1.5905 - acc: 0.5917 - val_loss: 1.6728 - val_acc: 0.5588\n",
      "Epoch 6/30\n",
      "70/71 [============================>.] - ETA: 0s - loss: 1.4775 - acc: 0.6254- ETA: 2s - los\n",
      "Epoch 00006: val_acc improved from 0.57079 to 0.61665, saving model to best_model.h5\n",
      "71/71 [==============================] - 7s 97ms/step - loss: 1.4796 - acc: 0.6248 - val_loss: 1.5139 - val_acc: 0.6167\n",
      "Epoch 7/30\n",
      "70/71 [============================>.] - ETA: 0s - loss: 1.3846 - acc: 0.6443\n",
      "Epoch 00007: val_acc improved from 0.61665 to 0.63224, saving model to best_model.h5\n",
      "71/71 [==============================] - 7s 97ms/step - loss: 1.3850 - acc: 0.6444 - val_loss: 1.4643 - val_acc: 0.6322\n",
      "Epoch 8/30\n",
      "70/71 [============================>.] - ETA: 0s - loss: 1.4053 - acc: 0.6419\n",
      "Epoch 00008: val_acc improved from 0.63224 to 0.63669, saving model to best_model.h5\n",
      "71/71 [==============================] - 7s 97ms/step - loss: 1.4058 - acc: 0.6418 - val_loss: 1.4306 - val_acc: 0.6367\n",
      "Epoch 9/30\n",
      "70/71 [============================>.] - ETA: 0s - loss: 1.2814 - acc: 0.6698\n",
      "Epoch 00009: val_acc did not improve from 0.63669\n",
      "71/71 [==============================] - 7s 98ms/step - loss: 1.2812 - acc: 0.6698 - val_loss: 1.4348 - val_acc: 0.6278\n",
      "Epoch 10/30\n",
      "70/71 [============================>.] - ETA: 0s - loss: 1.2273 - acc: 0.6799\n",
      "Epoch 00010: val_acc improved from 0.63669 to 0.65227, saving model to best_model.h5\n",
      "71/71 [==============================] - 7s 98ms/step - loss: 1.2269 - acc: 0.6800 - val_loss: 1.3778 - val_acc: 0.6523\n",
      "Epoch 11/30\n",
      "70/71 [============================>.] - ETA: 0s - loss: 1.1678 - acc: 0.6991\n",
      "Epoch 00011: val_acc improved from 0.65227 to 0.65806, saving model to best_model.h5\n",
      "71/71 [==============================] - 7s 101ms/step - loss: 1.1680 - acc: 0.6988 - val_loss: 1.3317 - val_acc: 0.6581\n",
      "Epoch 12/30\n",
      "70/71 [============================>.] - ETA: 0s - loss: 1.1127 - acc: 0.7165\n",
      "Epoch 00012: val_acc improved from 0.65806 to 0.67097, saving model to best_model.h5\n",
      "71/71 [==============================] - 7s 102ms/step - loss: 1.1135 - acc: 0.7164 - val_loss: 1.2896 - val_acc: 0.6710\n",
      "Epoch 13/30\n",
      "70/71 [============================>.] - ETA: 0s - loss: 1.0629 - acc: 0.7247\n",
      "Epoch 00013: val_acc improved from 0.67097 to 0.68077, saving model to best_model.h5\n",
      "71/71 [==============================] - 7s 102ms/step - loss: 1.0621 - acc: 0.7249 - val_loss: 1.2839 - val_acc: 0.6808\n",
      "Epoch 14/30\n",
      "70/71 [============================>.] - ETA: 0s - loss: 1.0167 - acc: 0.7400\n",
      "Epoch 00014: val_acc improved from 0.68077 to 0.68789, saving model to best_model.h5\n",
      "71/71 [==============================] - 7s 101ms/step - loss: 1.0161 - acc: 0.7400 - val_loss: 1.2571 - val_acc: 0.6879\n",
      "Epoch 15/30\n",
      "70/71 [============================>.] - ETA: 0s - loss: 0.9812 - acc: 0.7499\n",
      "Epoch 00015: val_acc did not improve from 0.68789\n",
      "71/71 [==============================] - 7s 103ms/step - loss: 0.9802 - acc: 0.7501 - val_loss: 1.2750 - val_acc: 0.6817\n",
      "Epoch 16/30\n",
      "70/71 [============================>.] - ETA: 0s - loss: 0.9613 - acc: 0.7558\n",
      "Epoch 00016: val_acc did not improve from 0.68789\n",
      "71/71 [==============================] - 7s 105ms/step - loss: 0.9607 - acc: 0.7560 - val_loss: 1.2692 - val_acc: 0.6812\n",
      "Epoch 17/30\n",
      "70/71 [============================>.] - ETA: 0s - loss: 0.9109 - acc: 0.7673\n",
      "Epoch 00017: val_acc improved from 0.68789 to 0.69101, saving model to best_model.h5\n",
      "71/71 [==============================] - 7s 105ms/step - loss: 0.9111 - acc: 0.7673 - val_loss: 1.2666 - val_acc: 0.6910\n",
      "Epoch 18/30\n",
      "70/71 [============================>.] - ETA: 0s - loss: 0.8797 - acc: 0.7743\n",
      "Epoch 00018: val_acc improved from 0.69101 to 0.69145, saving model to best_model.h5\n",
      "71/71 [==============================] - 7s 104ms/step - loss: 0.8786 - acc: 0.7745 - val_loss: 1.2720 - val_acc: 0.6915\n",
      "Epoch 00018: early stopping\n"
     ]
    }
   ],
   "source": [
    "history = model.fit(x_train, y_train, batch_size=128, epochs=30, callbacks=[es, mc], validation_data=(x_test, y_test))"
   ]
  },
  {
   "cell_type": "code",
   "execution_count": 17,
   "metadata": {},
   "outputs": [
    {
     "name": "stdout",
     "output_type": "stream",
     "text": [
      "71/71 [==============================] - 1s 12ms/step - loss: 1.2720 - acc: 0.6915\n",
      "\n",
      " Test Accuracy: 0.6915\n"
     ]
    }
   ],
   "source": [
    "# 테스트 정확도 출력\n",
    "print(\"\\n Test Accuracy: %.4f\" % (model.evaluate(x_test, y_test)[1]))"
   ]
  },
  {
   "cell_type": "code",
   "execution_count": 18,
   "metadata": {},
   "outputs": [],
   "source": [
    "# 테스트셋의 오차\n",
    "y_vloss = history.history['val_loss']\n",
    "  \n",
    "# 학습셋의 오차\n",
    "y_loss = history.history['loss']"
   ]
  },
  {
   "cell_type": "code",
   "execution_count": 22,
   "metadata": {},
   "outputs": [
    {
     "data": {
      "text/plain": [
       "[<matplotlib.lines.Line2D at 0x1ff59bc09e8>]"
      ]
     },
     "execution_count": 22,
     "metadata": {},
     "output_type": "execute_result"
    },
    {
     "data": {
      "image/png": "[encoded data removed]",
      "text/plain": [
       "<Figure size 432x288 with 1 Axes>"
      ]
     },
     "metadata": {
      "needs_background": "light"
     },
     "output_type": "display_data"
    }
   ],
   "source": [
    "# 그래프로 표현\n",
    "import matplotlib.pyplot as plt\n",
    "\n",
    "x_len = np.arange(len(y_loss))\n",
    "plt.plot(x_len, y_vloss, marker='.', c=\"red\", label='Testset_loss')\n",
    "plt.plot(x_len, y_loss, marker='.', c=\"blue\", label='Trainset_loss')"
   ]
  },
  {
   "cell_type": "code",
   "execution_count": null,
   "metadata": {},
   "outputs": [],
   "source": []
  }
 ],
 "metadata": {
  "kernelspec": {
   "display_name": "Python 3",
   "language": "python",
   "name": "python3"
  },
  "language_info": {
   "codemirror_mode": {
    "name": "ipython",
    "version": 3
   },
   "file_extension": ".py",
   "mimetype": "text/x-python",
   "name": "python",
   "nbconvert_exporter": "python",
   "pygments_lexer": "ipython3",
   "version": "3.7.3"
  }
 },
 "nbformat": 4,
 "nbformat_minor": 4
}
