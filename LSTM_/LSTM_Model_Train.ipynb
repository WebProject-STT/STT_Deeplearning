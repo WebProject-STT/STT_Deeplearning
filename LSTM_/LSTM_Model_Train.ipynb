{
  "nbformat": 4,
  "nbformat_minor": 0,
  "metadata": {
    "colab": {
      "name": "LSTM_Model_Train.ipynb",
      "provenance": [],
      "collapsed_sections": []
    },
    "kernelspec": {
      "name": "python3",
      "display_name": "Python 3"
    },
    "accelerator": "GPU"
  },
  "cells": [
    {
      "cell_type": "code",
      "metadata": {
        "id": "RdQxfYJj5akO"
      },
      "source": [
        "from google.colab import drive\r\n",
        "drive.mount('/gdrive', force_remount=True)"
      ],
      "execution_count": null,
      "outputs": []
    },
    {
      "cell_type": "markdown",
      "metadata": {
        "id": "yRLcGcBeW3uG"
      },
      "source": [
        "### Mecab 설치"
      ]
    },
    {
      "cell_type": "code",
      "metadata": {
        "colab": {
          "base_uri": "https://localhost:8080/"
        },
        "id": "3grf4sICW6GF",
        "outputId": "969e9dc3-e1e6-4a29-e1c3-86d0e3ffaa35"
      },
      "source": [
        "! git clone https://github.com/SOMJANG/Mecab-ko-for-Google-Colab.git\r\n"
      ],
      "execution_count": 2,
      "outputs": [
        {
          "output_type": "stream",
          "text": [
            "Cloning into 'Mecab-ko-for-Google-Colab'...\n",
            "remote: Enumerating objects: 91, done.\u001b[K\n",
            "remote: Counting objects: 100% (91/91), done.\u001b[K\n",
            "remote: Compressing objects: 100% (85/85), done.\u001b[K\n",
            "remote: Total 91 (delta 43), reused 22 (delta 6), pack-reused 0\u001b[K\n",
            "Unpacking objects: 100% (91/91), done.\n"
          ],
          "name": "stdout"
        }
      ]
    },
    {
      "cell_type": "code",
      "metadata": {
        "colab": {
          "base_uri": "https://localhost:8080/"
        },
        "id": "nIUKU6coXL6W",
        "outputId": "1a9474f1-2ff0-4aa7-e54c-04f72f990cc6"
      },
      "source": [
        "ls"
      ],
      "execution_count": 3,
      "outputs": [
        {
          "output_type": "stream",
          "text": [
            "\u001b[0m\u001b[01;34mdrive\u001b[0m/  \u001b[01;34mMecab-ko-for-Google-Colab\u001b[0m/  \u001b[01;34msample_data\u001b[0m/\n"
          ],
          "name": "stdout"
        }
      ]
    },
    {
      "cell_type": "code",
      "metadata": {
        "colab": {
          "base_uri": "https://localhost:8080/"
        },
        "id": "6pawkcBfXOKl",
        "outputId": "86c1bcb6-4e50-4864-8bac-f9a423cc7823"
      },
      "source": [
        "cd Mecab-ko-for-Google-Colab/"
      ],
      "execution_count": 5,
      "outputs": [
        {
          "output_type": "stream",
          "text": [
            "/content/Mecab-ko-for-Google-Colab\n"
          ],
          "name": "stdout"
        }
      ]
    },
    {
      "cell_type": "code",
      "metadata": {
        "colab": {
          "base_uri": "https://localhost:8080/"
        },
        "id": "U7XZDQKxXUfC",
        "outputId": "374a21df-2c37-4919-b424-811085821885"
      },
      "source": [
        "ls"
      ],
      "execution_count": 6,
      "outputs": [
        {
          "output_type": "stream",
          "text": [
            "\u001b[0m\u001b[01;34mimages\u001b[0m/                                    LICENSE\n",
            "install_mecab-ko_on_colab190912.sh         README.md\n",
            "install_mecab-ko_on_colab_light_210108.sh\n"
          ],
          "name": "stdout"
        }
      ]
    },
    {
      "cell_type": "code",
      "metadata": {
        "id": "aNYaEve8XVbX"
      },
      "source": [
        "! bash install_mecab-ko_on_colab190912.sh"
      ],
      "execution_count": null,
      "outputs": []
    },
    {
      "cell_type": "code",
      "metadata": {
        "id": "szj_lboiL82-",
        "colab": {
          "base_uri": "https://localhost:8080/"
        },
        "outputId": "a2a20f13-85f7-44cb-b392-1e32b42566fd"
      },
      "source": [
        "# mecab 테스트하기\r\n",
        "from konlpy.tag import Mecab\r\n",
        "mecab = Mecab()\r\n",
        "text = u\"\"\"colab에서 mecab테스트 중입니다!\"\"\"\r\n",
        "mecab.morphs(text)"
      ],
      "execution_count": 9,
      "outputs": [
        {
          "output_type": "execute_result",
          "data": {
            "text/plain": [
              "['colab', '에서', 'mecab', '테스트', '중', '입니다', '!']"
            ]
          },
          "metadata": {
            "tags": []
          },
          "execution_count": 9
        }
      ]
    },
    {
      "cell_type": "markdown",
      "metadata": {
        "id": "c828K1mKYRUR"
      },
      "source": [
        "### 필요한 라이브러리들 설치\r\n",
        "- keras/tensorflow\r\n",
        "- numpy, pandas, matplotlib\r\n",
        "- sklearn"
      ]
    },
    {
      "cell_type": "code",
      "metadata": {
        "id": "Qj5NUpgPYAqO"
      },
      "source": [
        "!pip install tensorflow\r\n",
        "!pip install keras\r\n"
      ],
      "execution_count": null,
      "outputs": []
    },
    {
      "cell_type": "code",
      "metadata": {
        "colab": {
          "base_uri": "https://localhost:8080/"
        },
        "id": "Wv8TWyJBY1PC",
        "outputId": "ef5b1a90-2e07-47ac-bad0-00fc29dd45ba"
      },
      "source": [
        "import keras\r\n",
        "import tensorflow as tf\r\n",
        "print(keras.__version__)\r\n",
        "print(tf.__version__)"
      ],
      "execution_count": 11,
      "outputs": [
        {
          "output_type": "stream",
          "text": [
            "2.4.3\n",
            "2.4.1\n"
          ],
          "name": "stdout"
        }
      ]
    },
    {
      "cell_type": "code",
      "metadata": {
        "colab": {
          "base_uri": "https://localhost:8080/"
        },
        "id": "3o0UVKwwY-fi",
        "outputId": "ba6a64ba-f3ac-46c1-d83e-0bd50e0b8c47"
      },
      "source": [
        "!pip install numpy\r\n",
        "!pip install pandas\r\n",
        "!pip install matplotlib\r\n",
        "!pip install scikit-learn"
      ],
      "execution_count": 12,
      "outputs": [
        {
          "output_type": "stream",
          "text": [
            "Requirement already satisfied: numpy in /usr/local/lib/python3.6/dist-packages (1.19.5)\n",
            "Requirement already satisfied: pandas in /usr/local/lib/python3.6/dist-packages (1.1.5)\n",
            "Requirement already satisfied: numpy>=1.15.4 in /usr/local/lib/python3.6/dist-packages (from pandas) (1.19.5)\n",
            "Requirement already satisfied: python-dateutil>=2.7.3 in /usr/local/lib/python3.6/dist-packages (from pandas) (2.8.1)\n",
            "Requirement already satisfied: pytz>=2017.2 in /usr/local/lib/python3.6/dist-packages (from pandas) (2018.9)\n",
            "Requirement already satisfied: six>=1.5 in /usr/local/lib/python3.6/dist-packages (from python-dateutil>=2.7.3->pandas) (1.15.0)\n",
            "Requirement already satisfied: matplotlib in /usr/local/lib/python3.6/dist-packages (3.2.2)\n",
            "Requirement already satisfied: numpy>=1.11 in /usr/local/lib/python3.6/dist-packages (from matplotlib) (1.19.5)\n",
            "Requirement already satisfied: python-dateutil>=2.1 in /usr/local/lib/python3.6/dist-packages (from matplotlib) (2.8.1)\n",
            "Requirement already satisfied: kiwisolver>=1.0.1 in /usr/local/lib/python3.6/dist-packages (from matplotlib) (1.3.1)\n",
            "Requirement already satisfied: pyparsing!=2.0.4,!=2.1.2,!=2.1.6,>=2.0.1 in /usr/local/lib/python3.6/dist-packages (from matplotlib) (2.4.7)\n",
            "Requirement already satisfied: cycler>=0.10 in /usr/local/lib/python3.6/dist-packages (from matplotlib) (0.10.0)\n",
            "Requirement already satisfied: six>=1.5 in /usr/local/lib/python3.6/dist-packages (from python-dateutil>=2.1->matplotlib) (1.15.0)\n",
            "Requirement already satisfied: scikit-learn in /usr/local/lib/python3.6/dist-packages (0.22.2.post1)\n",
            "Requirement already satisfied: joblib>=0.11 in /usr/local/lib/python3.6/dist-packages (from scikit-learn) (1.0.0)\n",
            "Requirement already satisfied: numpy>=1.11.0 in /usr/local/lib/python3.6/dist-packages (from scikit-learn) (1.19.5)\n",
            "Requirement already satisfied: scipy>=0.17.0 in /usr/local/lib/python3.6/dist-packages (from scikit-learn) (1.4.1)\n"
          ],
          "name": "stdout"
        }
      ]
    },
    {
      "cell_type": "markdown",
      "metadata": {
        "id": "tHa1haukZU0w"
      },
      "source": [
        "#### 라이브러리 import"
      ]
    },
    {
      "cell_type": "code",
      "metadata": {
        "id": "MnDCawXBZUaR"
      },
      "source": [
        "\r\n",
        "import os, json, glob, sys\r\n",
        "import pandas as pd\r\n",
        "import numpy as np\r\n",
        "from keras.utils import np_utils\r\n",
        "import matplotlib.pyplot as plt\r\n",
        "import matplotlib as mpl\r\n",
        "\r\n",
        "import tensorflow as tf\r\n",
        "\r\n",
        "from keras.preprocessing.text import Tokenizer\r\n",
        "from keras.preprocessing.sequence import pad_sequences\r\n",
        "from keras.preprocessing import sequence\r\n",
        "from keras.models import Sequential\r\n",
        "from keras.layers import Dense, Embedding, LSTM, Flatten, Dropout, Input, Conv1D, MaxPooling1D, GlobalMaxPool1D\r\n",
        "from keras.utils import np_utils\r\n",
        "from keras.callbacks import EarlyStopping, ModelCheckpoint\r\n",
        "from sklearn.model_selection import train_test_split\r\n",
        "\r\n",
        "from konlpy.tag import Mecab\r\n",
        "mecab = Mecab()\r\n"
      ],
      "execution_count": 47,
      "outputs": []
    },
    {
      "cell_type": "markdown",
      "metadata": {
        "id": "gIQBKaKmaA_e"
      },
      "source": [
        "#### Dataset 불러오기"
      ]
    },
    {
      "cell_type": "code",
      "metadata": {
        "colab": {
          "base_uri": "https://localhost:8080/"
        },
        "id": "JIoebXuGZQLG",
        "outputId": "fca478c1-74d4-4820-b8ca-ca86d1a9360b"
      },
      "source": [
        "path = \"/content/drive/MyDrive/STT_/web_crawling/\"\r\n",
        "file_list = os.listdir(path)\r\n",
        "names = [file[:-4] for file in file_list]\r\n",
        "names"
      ],
      "execution_count": 15,
      "outputs": [
        {
          "output_type": "execute_result",
          "data": {
            "text/plain": [
              "['속담',\n",
              " '교양영어사전',\n",
              " '기독교',\n",
              " '불교',\n",
              " '동양_철학_윤리',\n",
              " '한국_민속',\n",
              " '서양_철학_윤리',\n",
              " '심리',\n",
              " '무기',\n",
              " '기계_자동차_금속',\n",
              " '건설_토목',\n",
              " 'IT',\n",
              " '댄스_무용',\n",
              " '만화',\n",
              " '미술',\n",
              " '명화',\n",
              " '영미문학',\n",
              " '일본문학',\n",
              " '중국문학',\n",
              " '한국문학',\n",
              " '이슬람교',\n",
              " '한국_철학_윤리',\n",
              " '기타종교',\n",
              " '교양_인문',\n",
              " '질병',\n",
              " '의학',\n",
              " '약학',\n",
              " '공예',\n",
              " '건축물',\n",
              " '환경',\n",
              " '농학',\n",
              " '클래식',\n",
              " '음악사',\n",
              " '악기',\n",
              " '아시아_역사_문화',\n",
              " '유럽_역사_문화',\n",
              " '아시아',\n",
              " '한국',\n",
              " '뮤지컬',\n",
              " '드라마',\n",
              " '영화',\n",
              " '색채',\n",
              " '중동_역사_문화',\n",
              " '음악용어',\n",
              " '세계_역사_문화',\n",
              " '한국_역사_문화',\n",
              " '북아메리카',\n",
              " '중동',\n",
              " '남아메리카',\n",
              " '유럽',\n",
              " '무역',\n",
              " '호텔',\n",
              " '부동산',\n",
              " '사회복지',\n",
              " '독일문학',\n",
              " '북한문학',\n",
              " '세계문학',\n",
              " '프랑스문학',\n",
              " '천문학',\n",
              " '수학',\n",
              " '물리학',\n",
              " '지구과학',\n",
              " '재료',\n",
              " '커피_차',\n",
              " '세계음식',\n",
              " '주류',\n",
              " '기업_브랜드',\n",
              " '인테리어',\n",
              " '육아',\n",
              " '헤어',\n",
              " '행정_기관_단체',\n",
              " '게임',\n",
              " '외교',\n",
              " '법',\n",
              " '한국음식',\n",
              " '회계_세무',\n",
              " '아프리카',\n",
              " '전시관',\n",
              " '경제',\n",
              " '패션',\n",
              " '바둑',\n",
              " '정치',\n",
              " '오세아니아',\n",
              " '식물',\n",
              " '동물',\n",
              " '국제기구',\n",
              " '곤충',\n",
              " '직업',\n",
              " '화학',\n",
              " '군사',\n",
              " '생명과학']"
            ]
          },
          "metadata": {
            "tags": []
          },
          "execution_count": 15
        }
      ]
    },
    {
      "cell_type": "code",
      "metadata": {
        "colab": {
          "base_uri": "https://localhost:8080/",
          "height": 589
        },
        "id": "kGdzOMzuaS7K",
        "outputId": "7c01b287-2aa1-47f0-860e-7960172a7d60"
      },
      "source": [
        "df = pd.DataFrame(columns=['topic', 'sub_topic', 'contents', 'label'])\r\n",
        "\r\n",
        "idx = 0\r\n",
        "topic_index = dict()\r\n",
        "for name in names:\r\n",
        "    temp_df = pd.read_csv(path+\"/\"+name+'.csv', encoding= 'cp949', names=['url', 'sub_topic', 'contents'])\r\n",
        "    len_ = len(temp_df)\r\n",
        "    temp_df['topic'] = [name]*len_\r\n",
        "    temp_df['label'] = [idx]*len_\r\n",
        "    temp_df = temp_df.loc[:, ['topic', 'sub_topic', 'contents','label']]\r\n",
        "    df = pd.concat([df, temp_df])\r\n",
        "    topic_index[name] = idx\r\n",
        "    idx += 1\r\n",
        "    del temp_df\r\n",
        "df"
      ],
      "execution_count": 16,
      "outputs": [
        {
          "output_type": "execute_result",
          "data": {
            "text/html": [
              "<div>\n",
              "<style scoped>\n",
              "    .dataframe tbody tr th:only-of-type {\n",
              "        vertical-align: middle;\n",
              "    }\n",
              "\n",
              "    .dataframe tbody tr th {\n",
              "        vertical-align: top;\n",
              "    }\n",
              "\n",
              "    .dataframe thead th {\n",
              "        text-align: right;\n",
              "    }\n",
              "</style>\n",
              "<table border=\"1\" class=\"dataframe\">\n",
              "  <thead>\n",
              "    <tr style=\"text-align: right;\">\n",
              "      <th></th>\n",
              "      <th>topic</th>\n",
              "      <th>sub_topic</th>\n",
              "      <th>contents</th>\n",
              "      <th>label</th>\n",
              "    </tr>\n",
              "  </thead>\n",
              "  <tbody>\n",
              "    <tr>\n",
              "      <th>0</th>\n",
              "      <td>속담</td>\n",
              "      <td>목구멍이포도청이다</td>\n",
              "      <td>먹고살기 매우 어려워지면 자기도 모르는 순간 죄를 범하게 되어 포도청에 잡혀가게 된...</td>\n",
              "      <td>0</td>\n",
              "    </tr>\n",
              "    <tr>\n",
              "      <th>1</th>\n",
              "      <td>속담</td>\n",
              "      <td>구관이명관이다</td>\n",
              "      <td>무슨 일이든 경험이 많은 사람이 잘 한다는 말이에요. 또 나중 사람을 겪어 봄으로써...</td>\n",
              "      <td>0</td>\n",
              "    </tr>\n",
              "    <tr>\n",
              "      <th>2</th>\n",
              "      <td>속담</td>\n",
              "      <td>닭쫓던개지붕쳐다본다</td>\n",
              "      <td>닭을 쫓던 개가 닭이 지붕으로 올라가자 쫓아 올라가지 못하고 지붕만 쳐다본다는 말....</td>\n",
              "      <td>0</td>\n",
              "    </tr>\n",
              "    <tr>\n",
              "      <th>3</th>\n",
              "      <td>속담</td>\n",
              "      <td>가는날이장날</td>\n",
              "      <td>어떤 일을 하려고 하다가 뜻하지 않게 공교로운 일을 만났을 때 하는 말이에요. 가는...</td>\n",
              "      <td>0</td>\n",
              "    </tr>\n",
              "    <tr>\n",
              "      <th>4</th>\n",
              "      <td>속담</td>\n",
              "      <td>미운놈떡하나더준다</td>\n",
              "      <td>미울수록 매 대신 떡을 준다는 말로 미운 사람일수록 잘 해 주고 생각하는 체라도 하...</td>\n",
              "      <td>0</td>\n",
              "    </tr>\n",
              "    <tr>\n",
              "      <th>...</th>\n",
              "      <td>...</td>\n",
              "      <td>...</td>\n",
              "      <td>...</td>\n",
              "      <td>...</td>\n",
              "    </tr>\n",
              "    <tr>\n",
              "      <th>9391</th>\n",
              "      <td>생명과학</td>\n",
              "      <td>말로닐CoA</td>\n",
              "      <td>지방산생합성에 의해 생성되는 기질 . 이 물질은 주로 아세틸CoA 카르복시화효소에 ...</td>\n",
              "      <td>90</td>\n",
              "    </tr>\n",
              "    <tr>\n",
              "      <th>9392</th>\n",
              "      <td>생명과학</td>\n",
              "      <td>역유전학</td>\n",
              "      <td>종래와 반대의 순서를 이용한 해석에 근거하는 유전학의 1분야. 즉 종래의 방법은 주...</td>\n",
              "      <td>90</td>\n",
              "    </tr>\n",
              "    <tr>\n",
              "      <th>9393</th>\n",
              "      <td>생명과학</td>\n",
              "      <td>호모시스틴뇨증</td>\n",
              "      <td>시스타티오닌 생성효소의 결손으로 메티오닌 호모시스틴 그의 중합체인 호모시스틴이 축적...</td>\n",
              "      <td>90</td>\n",
              "    </tr>\n",
              "    <tr>\n",
              "      <th>9394</th>\n",
              "      <td>생명과학</td>\n",
              "      <td>산화적인산화반응</td>\n",
              "      <td>호기적 생물의 주요한 ATP 공급반응으로 유기물을 분자상 산소에 의해 산화하여 얻어...</td>\n",
              "      <td>90</td>\n",
              "    </tr>\n",
              "    <tr>\n",
              "      <th>9395</th>\n",
              "      <td>생명과학</td>\n",
              "      <td>기본전사인자</td>\n",
              "      <td>진핵세포의 전사인자 중에서 전사반응에 필수적인 요소. 원핵세포에서는 RNA중합효소에...</td>\n",
              "      <td>90</td>\n",
              "    </tr>\n",
              "  </tbody>\n",
              "</table>\n",
              "<p>386367 rows × 4 columns</p>\n",
              "</div>"
            ],
            "text/plain": [
              "            topic  ... label\n",
              "0          속담  ...     0\n",
              "1          속담  ...     0\n",
              "2          속담  ...     0\n",
              "3          속담  ...     0\n",
              "4          속담  ...     0\n",
              "...           ...  ...   ...\n",
              "9391  생명과학  ...    90\n",
              "9392  생명과학  ...    90\n",
              "9393  생명과학  ...    90\n",
              "9394  생명과학  ...    90\n",
              "9395  생명과학  ...    90\n",
              "\n",
              "[386367 rows x 4 columns]"
            ]
          },
          "metadata": {
            "tags": []
          },
          "execution_count": 16
        }
      ]
    },
    {
      "cell_type": "code",
      "metadata": {
        "colab": {
          "base_uri": "https://localhost:8080/",
          "height": 289
        },
        "id": "McUSGEVvaZx0",
        "outputId": "897719c6-ba88-415e-c04c-91b82c97fd23"
      },
      "source": [
        "# 데이터 섞기\r\n",
        "df_shuffled=df.sample(frac=1).reset_index(drop=True)\r\n",
        "df_shuffled.head()"
      ],
      "execution_count": 17,
      "outputs": [
        {
          "output_type": "execute_result",
          "data": {
            "text/html": [
              "<div>\n",
              "<style scoped>\n",
              "    .dataframe tbody tr th:only-of-type {\n",
              "        vertical-align: middle;\n",
              "    }\n",
              "\n",
              "    .dataframe tbody tr th {\n",
              "        vertical-align: top;\n",
              "    }\n",
              "\n",
              "    .dataframe thead th {\n",
              "        text-align: right;\n",
              "    }\n",
              "</style>\n",
              "<table border=\"1\" class=\"dataframe\">\n",
              "  <thead>\n",
              "    <tr style=\"text-align: right;\">\n",
              "      <th></th>\n",
              "      <th>topic</th>\n",
              "      <th>sub_topic</th>\n",
              "      <th>contents</th>\n",
              "      <th>label</th>\n",
              "    </tr>\n",
              "  </thead>\n",
              "  <tbody>\n",
              "    <tr>\n",
              "      <th>0</th>\n",
              "      <td>주류</td>\n",
              "      <td>연엽주증보산림경제</td>\n",
              "      <td>술독 밑에 고인 맑은 청주는 대략 2컵 정도의 소량이었다. 술독 밑바닥에 고인 청...</td>\n",
              "      <td>65</td>\n",
              "    </tr>\n",
              "    <tr>\n",
              "      <th>1</th>\n",
              "      <td>서양_철학_윤리</td>\n",
              "      <td>정신의본성</td>\n",
              "      <td>9에서 아리스토텔레스는 7에서는 간략하게만 다루어졌던 정신 nous 에 대해 좀 ...</td>\n",
              "      <td>6</td>\n",
              "    </tr>\n",
              "    <tr>\n",
              "      <th>2</th>\n",
              "      <td>농학</td>\n",
              "      <td>오리아플라톡신중독증</td>\n",
              "      <td>곰팡이류는 의학적으로 중요한 대사산물 항생제등을 생산하는 반면 사람과 동물에 심한 ...</td>\n",
              "      <td>30</td>\n",
              "    </tr>\n",
              "    <tr>\n",
              "      <th>3</th>\n",
              "      <td>만화</td>\n",
              "      <td>고스트메신저</td>\n",
              "      <td>귀신을 보는 무당 소년 강림은 우연히 핸드폰을 손에 넣는다. 강림은 핸드폰을 통해...</td>\n",
              "      <td>13</td>\n",
              "    </tr>\n",
              "    <tr>\n",
              "      <th>4</th>\n",
              "      <td>한국_민속</td>\n",
              "      <td>대전외삼동산신제</td>\n",
              "      <td>대전광역시 유성구 외삼동에서 3년에 한 번 음력 시월 초순에 길일을 택해 마을 뒷산...</td>\n",
              "      <td>5</td>\n",
              "    </tr>\n",
              "  </tbody>\n",
              "</table>\n",
              "</div>"
            ],
            "text/plain": [
              "                topic  ... label\n",
              "0                주류  ...    65\n",
              "1  서양_철학_윤리  ...     6\n",
              "2              농학  ...    30\n",
              "3               만화  ...    13\n",
              "4       한국_민속  ...     5\n",
              "\n",
              "[5 rows x 4 columns]"
            ]
          },
          "metadata": {
            "tags": []
          },
          "execution_count": 17
        }
      ]
    },
    {
      "cell_type": "code",
      "metadata": {
        "colab": {
          "base_uri": "https://localhost:8080/"
        },
        "id": "PMRlV2f5aaoN",
        "outputId": "9b40fd03-9a0b-4a9d-d931-ac0bc3f5a796"
      },
      "source": [
        "# 데이터 셋 크기\r\n",
        "len(df)"
      ],
      "execution_count": 18,
      "outputs": [
        {
          "output_type": "execute_result",
          "data": {
            "text/plain": [
              "386367"
            ]
          },
          "metadata": {
            "tags": []
          },
          "execution_count": 18
        }
      ]
    },
    {
      "cell_type": "markdown",
      "metadata": {
        "id": "EHOPblYLap2_"
      },
      "source": [
        "#### Data preprocessing"
      ]
    },
    {
      "cell_type": "code",
      "metadata": {
        "id": "lTq9DXn5apC1"
      },
      "source": [
        "# 데이터 셋을 input, output구별\r\n",
        "X = df_shuffled.loc[:, 'contents'].values\r\n",
        "Y = df_shuffled.loc[:, 'label'].values"
      ],
      "execution_count": 19,
      "outputs": []
    },
    {
      "cell_type": "code",
      "metadata": {
        "colab": {
          "base_uri": "https://localhost:8080/"
        },
        "id": "4LB5FDQNb07B",
        "outputId": "b687282f-451a-4445-cd82-f794933fc178"
      },
      "source": [
        "topic_index"
      ],
      "execution_count": 25,
      "outputs": [
        {
          "output_type": "execute_result",
          "data": {
            "text/plain": [
              "{'IT': 11,\n",
              " '건설_토목': 10,\n",
              " '건축물': 28,\n",
              " '게임': 71,\n",
              " '경제': 78,\n",
              " '곤충': 86,\n",
              " '공예': 27,\n",
              " '교양_인문': 23,\n",
              " '교양영어사전': 1,\n",
              " '국제기구': 85,\n",
              " '군사': 89,\n",
              " '기계_자동차_금속': 9,\n",
              " '기독교': 2,\n",
              " '기업_브랜드': 66,\n",
              " '기타종교': 22,\n",
              " '남아메리카': 48,\n",
              " '농학': 30,\n",
              " '댄스_무용': 12,\n",
              " '독일문학': 54,\n",
              " '동물': 84,\n",
              " '동양_철학_윤리': 4,\n",
              " '드라마': 39,\n",
              " '만화': 13,\n",
              " '명화': 15,\n",
              " '무기': 8,\n",
              " '무역': 50,\n",
              " '물리학': 60,\n",
              " '뮤지컬': 38,\n",
              " '미술': 14,\n",
              " '바둑': 80,\n",
              " '법': 73,\n",
              " '부동산': 52,\n",
              " '북아메리카': 46,\n",
              " '북한문학': 55,\n",
              " '불교': 3,\n",
              " '사회복지': 53,\n",
              " '색채': 41,\n",
              " '생명과학': 90,\n",
              " '서양_철학_윤리': 6,\n",
              " '세계_역사_문화': 44,\n",
              " '세계문학': 56,\n",
              " '세계음식': 64,\n",
              " '속담': 0,\n",
              " '수학': 59,\n",
              " '식물': 83,\n",
              " '심리': 7,\n",
              " '아시아': 36,\n",
              " '아시아_역사_문화': 34,\n",
              " '아프리카': 76,\n",
              " '악기': 33,\n",
              " '약학': 26,\n",
              " '영미문학': 16,\n",
              " '영화': 40,\n",
              " '오세아니아': 82,\n",
              " '외교': 72,\n",
              " '유럽': 49,\n",
              " '유럽_역사_문화': 35,\n",
              " '육아': 68,\n",
              " '음악사': 32,\n",
              " '음악용어': 43,\n",
              " '의학': 25,\n",
              " '이슬람교': 20,\n",
              " '인테리어': 67,\n",
              " '일본문학': 17,\n",
              " '재료': 62,\n",
              " '전시관': 77,\n",
              " '정치': 81,\n",
              " '주류': 65,\n",
              " '중국문학': 18,\n",
              " '중동': 47,\n",
              " '중동_역사_문화': 42,\n",
              " '지구과학': 61,\n",
              " '직업': 87,\n",
              " '질병': 24,\n",
              " '천문학': 58,\n",
              " '커피_차': 63,\n",
              " '클래식': 31,\n",
              " '패션': 79,\n",
              " '프랑스문학': 57,\n",
              " '한국': 37,\n",
              " '한국_민속': 5,\n",
              " '한국_역사_문화': 45,\n",
              " '한국_철학_윤리': 21,\n",
              " '한국문학': 19,\n",
              " '한국음식': 74,\n",
              " '행정_기관_단체': 70,\n",
              " '헤어': 69,\n",
              " '호텔': 51,\n",
              " '화학': 88,\n",
              " '환경': 29,\n",
              " '회계_세무': 75}"
            ]
          },
          "metadata": {
            "tags": []
          },
          "execution_count": 25
        }
      ]
    },
    {
      "cell_type": "code",
      "metadata": {
        "colab": {
          "base_uri": "https://localhost:8080/"
        },
        "id": "EGbnsLB5a5YK",
        "outputId": "295d46f1-ec8b-4192-adb8-25c77d313386"
      },
      "source": [
        "unique_elements, counts_elements = np.unique(Y, return_counts=True)\r\n",
        "print(\"각 레이블에 대한 빈도수:\")\r\n",
        "print(np.asarray((unique_elements, counts_elements)))"
      ],
      "execution_count": 29,
      "outputs": [
        {
          "output_type": "stream",
          "text": [
            "각 레이블에 대한 빈도수:\n",
            "[[0 1 2 3 4 5 6 7 8 9 10 11 12 13 14 15 16 17 18 19 20 21 22 23 24 25 26\n",
            "  27 28 29 30 31 32 33 34 35 36 37 38 39 40 41 42 43 44 45 46 47 48 49 50\n",
            "  51 52 53 54 55 56 57 58 59 60 61 62 63 64 65 66 67 68 69 70 71 72 73 74\n",
            "  75 76 77 78 79 80 81 82 83 84 85 86 87 88 89 90]\n",
            " [282 1003 9530 9294 3811 6098 9960 9628 5444 7652 10005 7398 3275 4854\n",
            "  6403 9690 637 1045 9050 9442 75 1006 4545 3564 4622 9406 10005 949 2826\n",
            "  3268 9095 1001 1265 1375 2439 4231 9963 9991 318 594 1499 1417 2527\n",
            "  5588 7559 9786 1520 1479 2576 9922 1893 1706 2721 4665 942 488 7276\n",
            "  1009 502 2073 2449 4418 1072 2837 6413 9737 3848 1711 392 341 1525 661\n",
            "  1278 3858 6681 1542 1346 2588 3118 9447 2104 4504 369 5834 389 357 1522\n",
            "  8052 9875 6516 9396]]\n"
          ],
          "name": "stdout"
        }
      ]
    },
    {
      "cell_type": "code",
      "metadata": {
        "colab": {
          "base_uri": "https://localhost:8080/",
          "height": 283
        },
        "id": "B0nAhkqRcbRR",
        "outputId": "68ab3568-66c9-4a98-bb5b-735686a18878"
      },
      "source": [
        "plt.bar(unique_elements, counts_elements, width=0.3, align='edge', color=\"blue\",\r\n",
        "        edgecolor=\"gray\", linewidth=3, tick_label=unique_elements, log=True)"
      ],
      "execution_count": 30,
      "outputs": [
        {
          "output_type": "execute_result",
          "data": {
            "text/plain": [
              "<BarContainer object of 91 artists>"
            ]
          },
          "metadata": {
            "tags": []
          },
          "execution_count": 30
        },
        {
          "output_type": "display_data",
          "data": {
            "image/png": "[encoded data removed]",
            "text/plain": [
              "<Figure size 432x288 with 1 Axes>"
            ]
          },
          "metadata": {
            "tags": [],
            "needs_background": "light"
          }
        }
      ]
    },
    {
      "cell_type": "code",
      "metadata": {
        "colab": {
          "base_uri": "https://localhost:8080/"
        },
        "id": "n1-8iAvQcegf",
        "outputId": "52977b8c-85ce-44cd-f025-4d669257f991"
      },
      "source": [
        "print(len(X))\r\n",
        "print(len(Y))"
      ],
      "execution_count": 32,
      "outputs": [
        {
          "output_type": "stream",
          "text": [
            "386367\n",
            "386367\n"
          ],
          "name": "stdout"
        }
      ]
    },
    {
      "cell_type": "code",
      "metadata": {
        "id": "K4GHxhnlcozE"
      },
      "source": [
        "# stop word 불러오기\r\n",
        "path = '/content/drive/MyDrive/STT_/korean_stopwords.txt'\r\n",
        "f = open(path, 'r', encoding='utf-8')\r\n",
        "stop_words = []\r\n",
        "while True:\r\n",
        "    line = f.readline()\r\n",
        "    if not line: break\r\n",
        "    stop_words.append(line.split()[0])\r\n",
        "f.close()"
      ],
      "execution_count": 33,
      "outputs": []
    },
    {
      "cell_type": "code",
      "metadata": {
        "colab": {
          "base_uri": "https://localhost:8080/"
        },
        "id": "aP0J1D2jczzA",
        "outputId": "0eaddc7c-7f9a-46e0-9e79-8a9d9bc561b5"
      },
      "source": [
        "stop_words[:5]"
      ],
      "execution_count": 34,
      "outputs": [
        {
          "output_type": "execute_result",
          "data": {
            "text/plain": [
              "['이', '있', '하', '것', '들']"
            ]
          },
          "metadata": {
            "tags": []
          },
          "execution_count": 34
        }
      ]
    },
    {
      "cell_type": "code",
      "metadata": {
        "id": "PnieISFRc00x"
      },
      "source": [
        "new_X = []\r\n",
        "delete_Y_idxs = []\r\n",
        "for idx in range(len(X)):\r\n",
        "  # 1. 토큰화\r\n",
        "  temp = mecab.morphs(X[idx])\r\n",
        "  # 2. 불용어 제거\r\n",
        "  temp = [i for i in temp if i not in stop_words and i != '.']\r\n",
        "  if temp:\r\n",
        "      new_X.append(temp)\r\n",
        "  else:\r\n",
        "    delete_Y_idxs.append(idx)\r\n"
      ],
      "execution_count": 37,
      "outputs": []
    },
    {
      "cell_type": "code",
      "metadata": {
        "colab": {
          "base_uri": "https://localhost:8080/"
        },
        "id": "FDBDQnKrdXt8",
        "outputId": "c50b7087-2cc0-478e-e936-fe711b0fa463"
      },
      "source": [
        "print(len(new_X))\r\n",
        "print(len(X))\r\n",
        "print(len(delete_Y_idxs))\r\n"
      ],
      "execution_count": 38,
      "outputs": [
        {
          "output_type": "stream",
          "text": [
            "385030\n",
            "386367\n",
            "1337\n"
          ],
          "name": "stdout"
        }
      ]
    },
    {
      "cell_type": "code",
      "metadata": {
        "colab": {
          "base_uri": "https://localhost:8080/"
        },
        "id": "xioubRrgfA5B",
        "outputId": "3c397410-160b-4cee-c808-3d95f66963d6"
      },
      "source": [
        "# 필요없는 부분 제거\r\n",
        "new_Y = np.delete(Y, delete_Y_idxs)\r\n",
        "print(len(new_X))\r\n",
        "print(len(X))\r\n",
        "print(len(new_Y))\r\n",
        "print(len(Y))"
      ],
      "execution_count": 40,
      "outputs": [
        {
          "output_type": "stream",
          "text": [
            "385030\n",
            "386367\n",
            "385030\n",
            "386367\n"
          ],
          "name": "stdout"
        }
      ]
    },
    {
      "cell_type": "code",
      "metadata": {
        "colab": {
          "base_uri": "https://localhost:8080/"
        },
        "id": "6mIhj4ZFgL_D",
        "outputId": "f653f501-7c54-46ad-8e4b-201468fc1a5e"
      },
      "source": [
        "new_X[4]"
      ],
      "execution_count": 45,
      "outputs": [
        {
          "output_type": "execute_result",
          "data": {
            "text/plain": [
              "['대전광역시',\n",
              " '유성구',\n",
              " '외삼동',\n",
              " '에서',\n",
              " '3',\n",
              " '에',\n",
              " '음력',\n",
              " '시월',\n",
              " '초순',\n",
              " '에',\n",
              " '길일',\n",
              " '을',\n",
              " '택해',\n",
              " '마을',\n",
              " '뒷산',\n",
              " '에서',\n",
              " '지내',\n",
              " '는',\n",
              " '산신제',\n",
              " '대전',\n",
              " '유성구',\n",
              " '외삼동',\n",
              " '은',\n",
              " '진주',\n",
              " '강',\n",
              " '경주',\n",
              " '김',\n",
              " '은진',\n",
              " '송',\n",
              " '거주',\n",
              " '는',\n",
              " '마을',\n",
              " '다',\n",
              " '자연',\n",
              " '마을',\n",
              " '로',\n",
              " '는',\n",
              " '산막',\n",
              " '서당',\n",
              " '골',\n",
              " '큰',\n",
              " '학교',\n",
              " '다',\n",
              " '과',\n",
              " '큰',\n",
              " '서당',\n",
              " '골',\n",
              " '일부',\n",
              " '옛날',\n",
              " '부터',\n",
              " '공동',\n",
              " '으로',\n",
              " '산제',\n",
              " '를',\n",
              " '지내',\n",
              " '왔',\n",
              " '다',\n",
              " '다가',\n",
              " '1992',\n",
              " '부터',\n",
              " '산제',\n",
              " '에',\n",
              " '참가',\n",
              " '게',\n",
              " '면서',\n",
              " '이후',\n",
              " '큰',\n",
              " '과',\n",
              " '서당',\n",
              " '골',\n",
              " '일부',\n",
              " '주민',\n",
              " '함께',\n",
              " '제',\n",
              " '를',\n",
              " '모시',\n",
              " '고',\n",
              " '다',\n",
              " '제',\n",
              " '를',\n",
              " '지내',\n",
              " '는',\n",
              " '곳',\n",
              " '은',\n",
              " '마을',\n",
              " '뒷산',\n",
              " '다',\n",
              " '산',\n",
              " '은',\n",
              " '밥',\n",
              " '봉',\n",
              " '275',\n",
              " 'm',\n",
              " '의',\n",
              " '개울',\n",
              " '건너',\n",
              " '에',\n",
              " '는',\n",
              " '옆',\n",
              " '산',\n",
              " '으로',\n",
              " '계룡산',\n",
              " '의',\n",
              " '지맥',\n",
              " '기',\n",
              " '도',\n",
              " '다',\n",
              " '마을',\n",
              " '에서',\n",
              " '는',\n",
              " '특이',\n",
              " '게',\n",
              " '도',\n",
              " '상당',\n",
              " '제',\n",
              " '로서',\n",
              " '칠성당',\n",
              " '과',\n",
              " '산신제',\n",
              " '를',\n",
              " '나누',\n",
              " '어',\n",
              " '지낸다',\n",
              " '뒷산',\n",
              " '꼭대기',\n",
              " '에',\n",
              " '는',\n",
              " '칠성당',\n",
              " '라는',\n",
              " '큰',\n",
              " '바위',\n",
              " '고',\n",
              " '밑',\n",
              " '에',\n",
              " '제물',\n",
              " '을',\n",
              " '차릴',\n",
              " '게',\n",
              " '막돌',\n",
              " '로',\n",
              " '단',\n",
              " '을',\n",
              " '쌓',\n",
              " '아',\n",
              " '았',\n",
              " '다',\n",
              " '칠',\n",
              " '성당',\n",
              " '못',\n",
              " '미쳐서',\n",
              " '감나무',\n",
              " '그루',\n",
              " '다',\n",
              " '마을',\n",
              " '은',\n",
              " '이곳',\n",
              " '을',\n",
              " '산지',\n",
              " '당',\n",
              " '라고',\n",
              " '부른다',\n",
              " '산지',\n",
              " '당',\n",
              " '은',\n",
              " '당집',\n",
              " '는',\n",
              " '자연',\n",
              " '제장',\n",
              " '다',\n",
              " '마을',\n",
              " '은',\n",
              " '칠성제',\n",
              " '를',\n",
              " '먼저',\n",
              " '지내',\n",
              " '고',\n",
              " '서',\n",
              " '산제',\n",
              " '를',\n",
              " '모신다',\n",
              " '마지막',\n",
              " '으로',\n",
              " '거리제',\n",
              " '를',\n",
              " '치른다',\n",
              " '칠성제',\n",
              " '는',\n",
              " '가장',\n",
              " '큰',\n",
              " '어른',\n",
              " '인',\n",
              " '북두칠성',\n",
              " '산제',\n",
              " '는',\n",
              " '산신령',\n",
              " '을',\n",
              " '각각',\n",
              " '는',\n",
              " '제의',\n",
              " '다',\n",
              " '산제',\n",
              " '의',\n",
              " '대상',\n",
              " '은',\n",
              " '호랑이',\n",
              " '다',\n",
              " '외삼동',\n",
              " '산신제',\n",
              " '는',\n",
              " '마을',\n",
              " '주민',\n",
              " '의',\n",
              " '평안',\n",
              " '을',\n",
              " '위해',\n",
              " '지내',\n",
              " '며',\n",
              " '매년',\n",
              " '치르',\n",
              " '고',\n",
              " '3',\n",
              " '에',\n",
              " '지낸다',\n",
              " '제의',\n",
              " '를',\n",
              " '지내',\n",
              " '는',\n",
              " '해',\n",
              " '에',\n",
              " '는',\n",
              " '음력',\n",
              " '시월',\n",
              " '초순',\n",
              " '에',\n",
              " '은',\n",
              " '날',\n",
              " '을',\n",
              " '는다',\n",
              " '책력',\n",
              " '을',\n",
              " '아',\n",
              " '날',\n",
              " '을',\n",
              " '정하',\n",
              " '는데',\n",
              " '대개',\n",
              " '초닷샛날',\n",
              " '로',\n",
              " '제일',\n",
              " '을',\n",
              " '삼',\n",
              " '는다',\n",
              " '제일',\n",
              " '결정',\n",
              " '면',\n",
              " '제',\n",
              " '사',\n",
              " '주일',\n",
              " '에',\n",
              " '생기복덕',\n",
              " '을',\n",
              " '아',\n",
              " '운',\n",
              " '닿',\n",
              " '는',\n",
              " '깨끗',\n",
              " '을',\n",
              " '제관',\n",
              " '으로',\n",
              " '선정',\n",
              " '는데',\n",
              " '우선',\n",
              " '칠성제',\n",
              " '를',\n",
              " '지낼',\n",
              " '으로',\n",
              " '남녀',\n",
              " '구분',\n",
              " '없이',\n",
              " '을',\n",
              " '선출',\n",
              " '한다',\n",
              " '제관',\n",
              " '고',\n",
              " '나머지',\n",
              " '축관',\n",
              " '다',\n",
              " '간혹',\n",
              " '자녀',\n",
              " '는',\n",
              " '부부',\n",
              " '칠성제',\n",
              " '를',\n",
              " '자원',\n",
              " '여',\n",
              " '모시',\n",
              " '기',\n",
              " '도',\n",
              " '한다',\n",
              " '이렇게',\n",
              " '해서',\n",
              " '아이',\n",
              " '를',\n",
              " '낳',\n",
              " '은',\n",
              " '부부',\n",
              " '도',\n",
              " '다는',\n",
              " '전한다',\n",
              " '한편',\n",
              " '산제',\n",
              " '와',\n",
              " '거리제',\n",
              " '를',\n",
              " '지낼',\n",
              " '으로',\n",
              " '을',\n",
              " '선정',\n",
              " '한다',\n",
              " '를',\n",
              " '축관',\n",
              " '라',\n",
              " '부른다',\n",
              " '축관',\n",
              " '은',\n",
              " '주로',\n",
              " '큰',\n",
              " '에서',\n",
              " '뽑',\n",
              " '는',\n",
              " '다',\n",
              " '산제',\n",
              " '와',\n",
              " '거리제',\n",
              " '음식',\n",
              " '을',\n",
              " '장만',\n",
              " '할',\n",
              " '을',\n",
              " '씩',\n",
              " '따로',\n",
              " '선출',\n",
              " '한다',\n",
              " '선출',\n",
              " '된',\n",
              " '은',\n",
              " '제',\n",
              " '를',\n",
              " '지내',\n",
              " '기',\n",
              " '까지',\n",
              " '주일',\n",
              " '가량',\n",
              " '약수',\n",
              " '로',\n",
              " '목욕재계',\n",
              " '를',\n",
              " '고',\n",
              " '비린',\n",
              " '음식',\n",
              " '을',\n",
              " '먹',\n",
              " '으며',\n",
              " '부정',\n",
              " '을',\n",
              " '가리',\n",
              " '기',\n",
              " '위해',\n",
              " '외출',\n",
              " '도',\n",
              " '삼간다',\n",
              " '특히',\n",
              " '축관',\n",
              " '대문',\n",
              " '에',\n",
              " '는',\n",
              " '솔잎',\n",
              " '고추',\n",
              " '검정',\n",
              " '숯',\n",
              " '을',\n",
              " '꽂',\n",
              " '은',\n",
              " '금줄',\n",
              " '을',\n",
              " '치',\n",
              " '고',\n",
              " '대문',\n",
              " '양쪽',\n",
              " '에',\n",
              " '는',\n",
              " '황토',\n",
              " '를',\n",
              " '일곱',\n",
              " '무더기',\n",
              " '아서',\n",
              " '부정',\n",
              " '의',\n",
              " '접근',\n",
              " '을',\n",
              " '금한다',\n",
              " '기간',\n",
              " '에',\n",
              " '는',\n",
              " '마을',\n",
              " '모두',\n",
              " '비린',\n",
              " '음식',\n",
              " '을',\n",
              " '가리',\n",
              " '는',\n",
              " '마을',\n",
              " '에',\n",
              " '부정',\n",
              " '드',\n",
              " '는',\n",
              " '을',\n",
              " '각별히',\n",
              " '조심',\n",
              " '한다',\n",
              " '제비',\n",
              " '는',\n",
              " '마을',\n",
              " '공동',\n",
              " '기금',\n",
              " '과',\n",
              " '추렴',\n",
              " '을',\n",
              " '통해',\n",
              " '마련',\n",
              " '한다',\n",
              " '집집',\n",
              " '마다',\n",
              " '햅쌀',\n",
              " '를',\n",
              " '성의껏',\n",
              " '낸다',\n",
              " '제일',\n",
              " '낮',\n",
              " '면',\n",
              " '칠성제',\n",
              " '를',\n",
              " '지낼',\n",
              " '산지',\n",
              " '당',\n",
              " '아래쪽',\n",
              " '에',\n",
              " '는',\n",
              " '샘',\n",
              " '에서',\n",
              " '물',\n",
              " '을',\n",
              " '떠다가',\n",
              " '칠',\n",
              " '성당',\n",
              " '으로',\n",
              " '올라가',\n",
              " '물',\n",
              " '로',\n",
              " '쌀',\n",
              " '을',\n",
              " '씻',\n",
              " '은',\n",
              " '뒤',\n",
              " '에',\n",
              " '절구통',\n",
              " '에',\n",
              " '넣',\n",
              " '고',\n",
              " '빻',\n",
              " '는다',\n",
              " '밤',\n",
              " '10',\n",
              " '시',\n",
              " '쯤',\n",
              " '면',\n",
              " '칠성제',\n",
              " '를',\n",
              " '지낼',\n",
              " '칠',\n",
              " '성당',\n",
              " '으로',\n",
              " '올라가',\n",
              " '서',\n",
              " '제물',\n",
              " '을',\n",
              " '준비',\n",
              " '한다',\n",
              " '제물',\n",
              " '은',\n",
              " '메',\n",
              " '떡',\n",
              " '미역국',\n",
              " '세',\n",
              " '다',\n",
              " '떡',\n",
              " '은',\n",
              " '낮',\n",
              " '에',\n",
              " '준비',\n",
              " '해',\n",
              " '둔',\n",
              " '세',\n",
              " '홉',\n",
              " '의',\n",
              " '쌀',\n",
              " '을',\n",
              " '시루',\n",
              " '에',\n",
              " '넣',\n",
              " '고',\n",
              " '흰무리떡',\n",
              " '을',\n",
              " '쪄서',\n",
              " '준비',\n",
              " '한다',\n",
              " '이때',\n",
              " '소금',\n",
              " '은',\n",
              " '넣',\n",
              " '는다',\n",
              " '메',\n",
              " '와',\n",
              " '미역국',\n",
              " '도',\n",
              " '칠성당',\n",
              " '에서',\n",
              " '직접',\n",
              " '장만',\n",
              " '한다',\n",
              " '칠',\n",
              " '성당',\n",
              " '에',\n",
              " '제물',\n",
              " '을',\n",
              " '진설',\n",
              " '면',\n",
              " '제관',\n",
              " '재배',\n",
              " '를',\n",
              " '고',\n",
              " '대동',\n",
              " '소지',\n",
              " '를',\n",
              " '올린다',\n",
              " '칠성제',\n",
              " '끝나',\n",
              " '면',\n",
              " '제관',\n",
              " '마을',\n",
              " '을',\n",
              " '향해',\n",
              " '마중',\n",
              " '시루',\n",
              " '를',\n",
              " '떼',\n",
              " '라',\n",
              " '며',\n",
              " '지른다',\n",
              " '를',\n",
              " '은',\n",
              " '각',\n",
              " '가정',\n",
              " '에서',\n",
              " '는',\n",
              " '집집',\n",
              " '마다',\n",
              " '찐',\n",
              " '시루',\n",
              " '를',\n",
              " '올린다',\n",
              " '칠성제',\n",
              " '끝나',\n",
              " '면',\n",
              " '산지',\n",
              " '당',\n",
              " '을',\n",
              " '맡',\n",
              " '은',\n",
              " '축관',\n",
              " '산제',\n",
              " '를',\n",
              " '지낸다',\n",
              " '산지',\n",
              " '당',\n",
              " '제물',\n",
              " '은',\n",
              " '가래떡',\n",
              " '삼',\n",
              " '색실',\n",
              " '과',\n",
              " '명태',\n",
              " '마리',\n",
              " '다',\n",
              " '통소',\n",
              " '통돼지',\n",
              " '수탉',\n",
              " '을',\n",
              " '올리',\n",
              " '기',\n",
              " '도',\n",
              " '한다',\n",
              " '통',\n",
              " '은',\n",
              " '마리',\n",
              " '를',\n",
              " '해',\n",
              " '체하',\n",
              " '고',\n",
              " '그대로',\n",
              " '사용',\n",
              " '한다는',\n",
              " '의미',\n",
              " '다',\n",
              " '과거',\n",
              " '에',\n",
              " '는',\n",
              " '소',\n",
              " '를',\n",
              " '잡',\n",
              " '아서',\n",
              " '올렸으나',\n",
              " '1995',\n",
              " '부터',\n",
              " '는',\n",
              " '돼지',\n",
              " '를',\n",
              " '올린다',\n",
              " '제의',\n",
              " '는',\n",
              " '칠성당',\n",
              " '과',\n",
              " '마찬가지',\n",
              " '로',\n",
              " '헌작',\n",
              " '재배',\n",
              " '순',\n",
              " '으로',\n",
              " '진행',\n",
              " '된다']"
            ]
          },
          "metadata": {
            "tags": []
          },
          "execution_count": 45
        }
      ]
    },
    {
      "cell_type": "code",
      "metadata": {
        "colab": {
          "base_uri": "https://localhost:8080/"
        },
        "id": "XGS01DnTgTic",
        "outputId": "853bbab2-6596-4dfa-e47f-0521726cf2cf"
      },
      "source": [
        "# X 정수 encoding하기\r\n",
        "max_word = 10000\r\n",
        "max_len = 1000 #max_len = 500\r\n",
        "\r\n",
        "tok = Tokenizer(num_words = max_word)\r\n",
        "tok.fit_on_texts(new_X)\r\n",
        "sequences = tok.texts_to_sequences(new_X)\r\n",
        "print(len(tok.word_index))"
      ],
      "execution_count": 48,
      "outputs": [
        {
          "output_type": "stream",
          "text": [
            "418293\n"
          ],
          "name": "stdout"
        }
      ]
    },
    {
      "cell_type": "markdown",
      "metadata": {
        "id": "CVus9ZXxh_uJ"
      },
      "source": [
        "각 기사의 단어 수가 제각각 다르므로 이를 동일하게 맞춰야 한다.\r\n",
        "이때는 다음과 같이 데이터 전처리 함수 sequence()를 이용한다."
      ]
    },
    {
      "cell_type": "code",
      "metadata": {
        "colab": {
          "base_uri": "https://localhost:8080/"
        },
        "id": "RAsbop41h-6e",
        "outputId": "c7722d3a-4f29-4c55-b662-ffaa8e179f15"
      },
      "source": [
        "sequences_matrix  = sequence.pad_sequences(sequences, maxlen=max_len)\r\n",
        "print(sequences_matrix)\r\n",
        "print(len(sequences_matrix[0]))"
      ],
      "execution_count": 51,
      "outputs": [
        {
          "output_type": "stream",
          "text": [
            "[[   0    0    0 ... 6517    3    5]\n",
            " [   0    0    0 ...    1 4242    5]\n",
            " [   0    0    0 ...    6  650    5]\n",
            " ...\n",
            " [   0    0    0 ...  829    2 1685]\n",
            " [   0    0    0 ... 8377   53    5]\n",
            " [   0    0    0 ...   19 2802    5]]\n",
            "1000\n"
          ],
          "name": "stdout"
        }
      ]
    },
    {
      "cell_type": "code",
      "metadata": {
        "colab": {
          "base_uri": "https://localhost:8080/"
        },
        "id": "0lo85hEhiYCw",
        "outputId": "080c2fa3-ff63-438f-962f-52f8f23d3ef1"
      },
      "source": [
        "type(sequences_matrix)"
      ],
      "execution_count": 56,
      "outputs": [
        {
          "output_type": "execute_result",
          "data": {
            "text/plain": [
              "numpy.ndarray"
            ]
          },
          "metadata": {
            "tags": []
          },
          "execution_count": 56
        }
      ]
    },
    {
      "cell_type": "code",
      "metadata": {
        "colab": {
          "base_uri": "https://localhost:8080/"
        },
        "id": "Dw6rNml0iZtc",
        "outputId": "b3216fce-500a-4901-de3e-ed26b3b502be"
      },
      "source": [
        "type(new_Y)"
      ],
      "execution_count": 53,
      "outputs": [
        {
          "output_type": "execute_result",
          "data": {
            "text/plain": [
              "numpy.ndarray"
            ]
          },
          "metadata": {
            "tags": []
          },
          "execution_count": 53
        }
      ]
    },
    {
      "cell_type": "code",
      "metadata": {
        "colab": {
          "base_uri": "https://localhost:8080/"
        },
        "id": "BUjXkm31id1q",
        "outputId": "712760da-2df1-46dc-92f4-cac021c9f666"
      },
      "source": [
        "print(len(sequences_matrix))"
      ],
      "execution_count": 55,
      "outputs": [
        {
          "output_type": "stream",
          "text": [
            "385030\n"
          ],
          "name": "stdout"
        }
      ]
    },
    {
      "cell_type": "code",
      "metadata": {
        "colab": {
          "base_uri": "https://localhost:8080/"
        },
        "id": "owoJ90u9iwjN",
        "outputId": "3e1110c8-9f6c-4c8a-9eb9-574a0f2d9d8d"
      },
      "source": [
        "# new_Y 데이터에 원-핫 인코딩 처리를 하여 데이터 전처리 과정을 마친다.\r\n",
        "nb_classes = len(set(new_Y))\r\n",
        "print(nb_classes)\r\n",
        "y = np_utils.to_categorical(new_Y, nb_classes)\r\n"
      ],
      "execution_count": 60,
      "outputs": [
        {
          "output_type": "stream",
          "text": [
            "91\n"
          ],
          "name": "stdout"
        }
      ]
    },
    {
      "cell_type": "code",
      "metadata": {
        "colab": {
          "base_uri": "https://localhost:8080/"
        },
        "id": "0TjEgPJpjM8H",
        "outputId": "55300c46-7b9d-4376-b20c-c1852fd1e7d6"
      },
      "source": [
        "print(y[100])"
      ],
      "execution_count": 62,
      "outputs": [
        {
          "output_type": "stream",
          "text": [
            "[0. 0. 0. 0. 0. 0. 0. 0. 0. 0. 0. 0. 0. 0. 0. 0. 0. 0. 0. 0. 0. 0. 0. 0.\n",
            " 0. 0. 0. 0. 0. 0. 0. 0. 0. 0. 0. 0. 0. 0. 0. 0. 0. 0. 0. 0. 0. 0. 0. 0.\n",
            " 1. 0. 0. 0. 0. 0. 0. 0. 0. 0. 0. 0. 0. 0. 0. 0. 0. 0. 0. 0. 0. 0. 0. 0.\n",
            " 0. 0. 0. 0. 0. 0. 0. 0. 0. 0. 0. 0. 0. 0. 0. 0. 0. 0. 0.]\n"
          ],
          "name": "stdout"
        }
      ]
    },
    {
      "cell_type": "code",
      "metadata": {
        "id": "ocVaekPTiTr2"
      },
      "source": [
        "X_train, X_test, y_train, y_test = train_test_split(sequences_matrix, y, test_size=0.2)"
      ],
      "execution_count": 63,
      "outputs": []
    },
    {
      "cell_type": "code",
      "metadata": {
        "colab": {
          "base_uri": "https://localhost:8080/"
        },
        "id": "6Lwck9KyimpH",
        "outputId": "2f709d99-44d6-4482-91f2-7a4952558e0c"
      },
      "source": [
        "print(X_train.shape)\r\n",
        "print(y_train.shape)"
      ],
      "execution_count": 64,
      "outputs": [
        {
          "output_type": "stream",
          "text": [
            "(308024, 1000)\n",
            "(308024, 91)\n"
          ],
          "name": "stdout"
        }
      ]
    },
    {
      "cell_type": "code",
      "metadata": {
        "colab": {
          "base_uri": "https://localhost:8080/"
        },
        "id": "WQbAN_hdji9D",
        "outputId": "76256830-94db-4a46-a4d3-5e0141653aaa"
      },
      "source": [
        "print(X_test.shape)\r\n",
        "print(y_test.shape)"
      ],
      "execution_count": 65,
      "outputs": [
        {
          "output_type": "stream",
          "text": [
            "(77006, 1000)\n",
            "(77006, 91)\n"
          ],
          "name": "stdout"
        }
      ]
    },
    {
      "cell_type": "markdown",
      "metadata": {
        "id": "3BQENxVDjYbU"
      },
      "source": [
        "##### training set X : 308024, 1000\r\n",
        "##### training set Y : 308024, 91\r\n",
        "\r\n",
        "##### training set X : 77006, 1000\r\n",
        "##### training set Y : 77006, 91"
      ]
    },
    {
      "cell_type": "markdown",
      "metadata": {
        "id": "bwdFovscjuRK"
      },
      "source": [
        "### Model 설계 및 훈련"
      ]
    },
    {
      "cell_type": "code",
      "metadata": {
        "id": "vkbwYevSjp_S"
      },
      "source": [
        "model = Sequential()\r\n",
        "\r\n",
        "model.add(Embedding(max_word, 64, input_length=max_len))\r\n",
        "model.add(LSTM(60, return_sequences=True))\r\n",
        "model.add(GlobalMaxPool1D())\r\n",
        "model.add(Dropout(0.2))\r\n",
        "model.add(Dense(50, activation='relu'))\r\n",
        "model.add(Dropout(0.5))\r\n",
        "model.add(Dense(nb_classes, activation='softmax'))\r\n",
        "model.compile(loss='categorical_crossentropy', optimizer='adam', metrics=['accuracy'])\r\n"
      ],
      "execution_count": 66,
      "outputs": []
    },
    {
      "cell_type": "code",
      "metadata": {
        "id": "JsfmEVuNj7eF"
      },
      "source": [
        "model_dir = '/content/drive/MyDrive/STT_/model'\r\n",
        "if not os.path.exists(model_dir):\r\n",
        "    os.mkdir(model_dir)\r\n",
        "model_path = model_dir + \"/Naver_dict_lstm.h5\""
      ],
      "execution_count": 70,
      "outputs": []
    },
    {
      "cell_type": "code",
      "metadata": {
        "colab": {
          "base_uri": "https://localhost:8080/",
          "height": 35
        },
        "id": "P2ARabV8kWkH",
        "outputId": "0cf612a6-60a0-4f92-f449-228882f1523f"
      },
      "source": [
        "model_path"
      ],
      "execution_count": 71,
      "outputs": [
        {
          "output_type": "execute_result",
          "data": {
            "application/vnd.google.colaboratory.intrinsic+json": {
              "type": "string"
            },
            "text/plain": [
              "'/content/drive/MyDrive/STT_/model/Naver_dict_lstm.h5'"
            ]
          },
          "metadata": {
            "tags": []
          },
          "execution_count": 71
        }
      ]
    },
    {
      "cell_type": "code",
      "metadata": {
        "id": "LmC79pZQkEfX"
      },
      "source": [
        "es = EarlyStopping(monitor='val_loss', mode='min', verbose=1, patience=7)\r\n",
        "mc = ModelCheckpoint(filepath=model_path, monitor='val_acc', mode='max', verbose=1, save_best_only=True)"
      ],
      "execution_count": 73,
      "outputs": []
    },
    {
      "cell_type": "code",
      "metadata": {
        "colab": {
          "base_uri": "https://localhost:8080/"
        },
        "id": "LdGzK---klzg",
        "outputId": "e3bddcd9-89ae-4721-c581-9b06f41f7f9b"
      },
      "source": [
        "model.summary()"
      ],
      "execution_count": 74,
      "outputs": [
        {
          "output_type": "stream",
          "text": [
            "Model: \"sequential\"\n",
            "_________________________________________________________________\n",
            "Layer (type)                 Output Shape              Param #   \n",
            "=================================================================\n",
            "embedding (Embedding)        (None, 1000, 64)          640000    \n",
            "_________________________________________________________________\n",
            "lstm (LSTM)                  (None, 1000, 60)          30000     \n",
            "_________________________________________________________________\n",
            "global_max_pooling1d (Global (None, 60)                0         \n",
            "_________________________________________________________________\n",
            "dropout (Dropout)            (None, 60)                0         \n",
            "_________________________________________________________________\n",
            "dense (Dense)                (None, 50)                3050      \n",
            "_________________________________________________________________\n",
            "dropout_1 (Dropout)          (None, 50)                0         \n",
            "_________________________________________________________________\n",
            "dense_1 (Dense)              (None, 91)                4641      \n",
            "=================================================================\n",
            "Total params: 677,691\n",
            "Trainable params: 677,691\n",
            "Non-trainable params: 0\n",
            "_________________________________________________________________\n"
          ],
          "name": "stdout"
        }
      ]
    },
    {
      "cell_type": "code",
      "metadata": {
        "colab": {
          "base_uri": "https://localhost:8080/"
        },
        "id": "ftEkQCqGkt5V",
        "outputId": "217222e8-4e1d-4b22-f679-e3a9213a2b2b"
      },
      "source": [
        "history = model.fit(X_train, y_train, batch_size=256, epochs=50, callbacks=[es, mc], validation_split=0.2)"
      ],
      "execution_count": null,
      "outputs": [
        {
          "output_type": "stream",
          "text": [
            "Epoch 1/50\n",
            "963/963 [==============================] - ETA: 0s - loss: 3.7173 - accuracy: 0.1117"
          ],
          "name": "stdout"
        }
      ]
    },
    {
      "cell_type": "code",
      "metadata": {
        "id": "YCLyBC2tk-uu"
      },
      "source": [
        "print(\"정확도 : %.4f\" % (model.evaluate(X_test, y_test)[1]))"
      ],
      "execution_count": null,
      "outputs": []
    },
    {
      "cell_type": "code",
      "metadata": {
        "id": "7KZbNvrslB1W"
      },
      "source": [
        "y_vloss = hist.history['val_loss']\r\n",
        "y_loss = hist.history['loss']\r\n",
        "\r\n",
        "x_len = np.arange(len(y_loss))\r\n",
        "\r\n",
        "plt.plot(x_len, y_vloss, marker='.', c='red', label='val_set_loss')\r\n",
        "plt.plot(x_len, y_loss, marker='.', c='blue', label='train_set_oss')\r\n",
        "plt.legend()\r\n",
        "plt.xlabel('epochs')\r\n",
        "plt.ylabel('loss')\r\n",
        "plt.grid()\r\n",
        "plt.show()"
      ],
      "execution_count": null,
      "outputs": []
    },
    {
      "cell_type": "code",
      "metadata": {
        "id": "h16QbPwAlKlG"
      },
      "source": [
        "y_vloss = hist.history['val_acc']\r\n",
        "y_loss = hist.history['acc']\r\n",
        "\r\n",
        "x_len = np.arange(len(y_loss))\r\n",
        "\r\n",
        "plt.plot(x_len, y_vloss, marker='.', c='red', label='val_set_loss')\r\n",
        "plt.plot(x_len, y_loss, marker='.', c='blue', label='train_set_oss')\r\n",
        "plt.legend()\r\n",
        "plt.xlabel('epochs')\r\n",
        "plt.ylabel('loss')\r\n",
        "plt.grid()\r\n",
        "plt.show()"
      ],
      "execution_count": null,
      "outputs": []
    },
    {
      "cell_type": "code",
      "metadata": {
        "id": "HcJobxixle8s"
      },
      "source": [
        "str = ['''이번 시간에는 문화의 정의와 구분 방식, 문화의 유동성과 통번역과의 관계를 학습하겠습니다.\r\n",
        "또 통번역의 역사적인 발전과 중요성을 세계사와 국내 역사의 관점에서 살펴본 다음,\r\n",
        "통번역과 국가경쟁력, 또 통번역과 개개인의 경쟁력 간의 관계를 알아보겠습니다.\r\n",
        "그럼 우리가 함께 살펴볼 첫 번째 개념이 문화입니다. 이 어휘는 실생활에서 우리가 너무 흔하게 접하기 때문에 의미를 크게 깊이 생각하지 않고 사용하는 어휘 가운데 하나입니다.\r\n",
        "우리가 대체로 한국문화, 미국문화, 중국문화와 같이 특정 집단 사람들이 공유하는 특징적인 삶의 방식이나 지식을 가리키는 데 사용하죠.\r\n",
        "여기에는 언어, 정치, 경제, 종교, 예술 같은 것은 물론이고 음식이나 혼례방식, 장례방식 같은 사회적인 관습도 포함됩니다.\r\n",
        "학자들은 가시적으로 볼 수 없는 정신이나 가치를 문화라고 부르는 데 비해서 건축이나 예술, 테크놀로지 같은 것은 문명으로 구분하는 경향이 있습니다.\r\n",
        "그러면 문화라는 단어의 어원은 어디에 있을까요? 문화를 뜻하는 영어 어휘는 ‘culture’인데 이 어휘의 어원이 라틴어의 ‘colere’입니다. 즉, 땅을 돌보고 길러낸다는 의미죠.\r\n",
        "이렇게 볼 때 문화라는 것은 인간이 발 디디고 생활하는 환경을 좀 더 좋게 바꿔나가는 모든 과정 또는 그것의 결과물을 가리킨다고 생각할 수 있겠습니다.\r\n",
        "문화의 특징은 크게 두 가지인데, 첫 번째로는 특정 집단과 다른 집단을 구분 지어주는 역할을 한다는 것.\r\n",
        "그리고 두 번째로는 특정 집단의 가치와 사고방식을 집단적으로 학습하는 과정. 곧 사회화를 통해서 구성원들이 공유하게 된다는 점입니다.\r\n",
        "우리가 문화를 다양한 방식으로 구분할 수 있는데요. 고대문명의 발상지를 기준으로 할 때는 이집트문명, 갠지스문명, 메소포타미아문명 이렇게 구분하기도 하고요.\r\n",
        "아시아문화, 유럽문화와 같이 문화가 분포하는 지리적인 특성이나 인종에 따라 구분하기도 합니다.\r\n",
        "또 향유주체, 즉 문화를 누리는 사람이 누군가에 따라서 대중문화냐, 고급문화냐를 구분하거나 조직문화냐, 개인 문화냐와 같이 다양한 관점에 따라 분류하기도 합니다.\r\n",
        "여기에서 주목할 것은 문화의 속성이 끊임없는 변화와 유동성이라는 거죠.\r\n",
        "학자들은 문화가 단 한 번도 고정되어 있거나 정형화된 채로 머물러 있지 않고 본질적으로 끊임없이 변화한다고 강조합니다. \r\n",
        "''']\r\n",
        "sequences_6m = tok.texts_to_sequences(str)\r\n",
        "print(sequences_6m)\r\n",
        "sequences_matrix_6m = sequence.pad_sequences(sequences_6m, maxlen=500)\r\n",
        "model.predict_classes(sequences_matrix_6m)"
      ],
      "execution_count": null,
      "outputs": []
    }
  ]
}