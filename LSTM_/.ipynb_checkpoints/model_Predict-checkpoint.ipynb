{
 "cells": [
  {
   "cell_type": "code",
   "execution_count": 1,
   "metadata": {},
   "outputs": [],
   "source": [
    "from keras.preprocessing import sequence\n",
    "from keras.models import load_model\n",
    "model = load_model('./model/Naver_dict_lstm.h5')"
   ]
  },
  {
   "cell_type": "code",
   "execution_count": null,
   "metadata": {},
   "outputs": [],
   "source": [
    "str = ['''이번 시간에는 문화의 정의와 구분 방식, 문화의 유동성과 통번역과의 관계를 학습하겠습니다.\n",
    "또 통번역의 역사적인 발전과 중요성을 세계사와 국내 역사의 관점에서 살펴본 다음,\n",
    "통번역과 국가경쟁력, 또 통번역과 개개인의 경쟁력 간의 관계를 알아보겠습니다.\n",
    "그럼 우리가 함께 살펴볼 첫 번째 개념이 문화입니다. 이 어휘는 실생활에서 우리가 너무 흔하게 접하기 때문에 의미를 크게 깊이 생각하지 않고 사용하는 어휘 가운데 하나입니다.\n",
    "우리가 대체로 한국문화, 미국문화, 중국문화와 같이 특정 집단 사람들이 공유하는 특징적인 삶의 방식이나 지식을 가리키는 데 사용하죠.\n",
    "여기에는 언어, 정치, 경제, 종교, 예술 같은 것은 물론이고 음식이나 혼례방식, 장례방식 같은 사회적인 관습도 포함됩니다.\n",
    "학자들은 가시적으로 볼 수 없는 정신이나 가치를 문화라고 부르는 데 비해서 건축이나 예술, 테크놀로지 같은 것은 문명으로 구분하는 경향이 있습니다.\n",
    "그러면 문화라는 단어의 어원은 어디에 있을까요? 문화를 뜻하는 영어 어휘는 ‘culture’인데 이 어휘의 어원이 라틴어의 ‘colere’입니다. 즉, 땅을 돌보고 길러낸다는 의미죠.\n",
    "이렇게 볼 때 문화라는 것은 인간이 발 디디고 생활하는 환경을 좀 더 좋게 바꿔나가는 모든 과정 또는 그것의 결과물을 가리킨다고 생각할 수 있겠습니다.\n",
    "문화의 특징은 크게 두 가지인데, 첫 번째로는 특정 집단과 다른 집단을 구분 지어주는 역할을 한다는 것.\n",
    "그리고 두 번째로는 특정 집단의 가치와 사고방식을 집단적으로 학습하는 과정. 곧 사회화를 통해서 구성원들이 공유하게 된다는 점입니다.\n",
    "우리가 문화를 다양한 방식으로 구분할 수 있는데요. 고대문명의 발상지를 기준으로 할 때는 이집트문명, 갠지스문명, 메소포타미아문명 이렇게 구분하기도 하고요.\n",
    "아시아문화, 유럽문화와 같이 문화가 분포하는 지리적인 특성이나 인종에 따라 구분하기도 합니다.\n",
    "또 향유주체, 즉 문화를 누리는 사람이 누군가에 따라서 대중문화냐, 고급문화냐를 구분하거나 조직문화냐, 개인 문화냐와 같이 다양한 관점에 따라 분류하기도 합니다.\n",
    "여기에서 주목할 것은 문화의 속성이 끊임없는 변화와 유동성이라는 거죠.\n",
    "학자들은 문화가 단 한 번도 고정되어 있거나 정형화된 채로 머물러 있지 않고 본질적으로 끊임없이 변화한다고 강조합니다. \n",
    "''']\n",
    "sequences_6m = tok.texts_to_sequences(str)\n",
    "print(sequences_6m)\n",
    "sequences_matrix_6m = sequence.pad_sequences(sequences_6m, maxlen=500)\n",
    "model.predict_classes(sequences_matrix_6m)"
   ]
  }
 ],
 "metadata": {
  "kernelspec": {
   "display_name": "Python 3",
   "language": "python",
   "name": "python3"
  },
  "language_info": {
   "codemirror_mode": {
    "name": "ipython",
    "version": 3
   },
   "file_extension": ".py",
   "mimetype": "text/x-python",
   "name": "python",
   "nbconvert_exporter": "python",
   "pygments_lexer": "ipython3",
   "version": "3.7.3"
  }
 },
 "nbformat": 4,
 "nbformat_minor": 4
}
