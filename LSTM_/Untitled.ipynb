{
 "cells": [
  {
   "cell_type": "code",
   "execution_count": 22,
   "metadata": {},
   "outputs": [],
   "source": [
    "import os\n",
    "import pandas as pd\n",
    "import numpy as np\n",
    "from sklearn.model_selection import train_test_split\n",
    "from keras.utils import np_utils"
   ]
  },
  {
   "cell_type": "code",
   "execution_count": 2,
   "metadata": {
    "scrolled": true
   },
   "outputs": [
    {
     "data": {
      "text/plain": [
       "['한국문학',\n",
       " '중국문학',\n",
       " '영미문학',\n",
       " '일본문학',\n",
       " '이슬람교',\n",
       " '기타종교',\n",
       " '한국_철학_윤리',\n",
       " '교양_인문',\n",
       " '질병',\n",
       " '의학',\n",
       " '약학',\n",
       " '환경',\n",
       " '농학',\n",
       " '건축물',\n",
       " '공예',\n",
       " '색채',\n",
       " '드라마',\n",
       " '영화',\n",
       " '뮤지컬',\n",
       " '음악용어',\n",
       " '한국_역사_문화',\n",
       " '중동_역사_문화',\n",
       " '세계_역사_문화',\n",
       " '중동',\n",
       " '유럽',\n",
       " '북아메리카',\n",
       " '남아메리카',\n",
       " '악기',\n",
       " '속담',\n",
       " '무기',\n",
       " '심리',\n",
       " '건설_토목',\n",
       " '음악사',\n",
       " 'IT',\n",
       " '댄스_무용',\n",
       " '한국_민속',\n",
       " '클래식',\n",
       " '기계_자동차_금속',\n",
       " '교양영어사전',\n",
       " '미술',\n",
       " '만화',\n",
       " '불교',\n",
       " '아시아_역사_문화',\n",
       " '명화',\n",
       " '유럽_역사_문화',\n",
       " '기독교',\n",
       " '서양_철학_윤리',\n",
       " '아시아',\n",
       " '한국',\n",
       " '동양_철학_윤리',\n",
       " '호텔',\n",
       " '부동산',\n",
       " '무역',\n",
       " '사회복지',\n",
       " '독일문학',\n",
       " '북한문학',\n",
       " '세계문학',\n",
       " '프랑스문학',\n",
       " '수학',\n",
       " '물리학',\n",
       " '지구과학',\n",
       " '천문학',\n",
       " '세계음식',\n",
       " '재료',\n",
       " '주류',\n",
       " '커피_차',\n",
       " '기업_브랜드',\n",
       " '게임',\n",
       " '경제',\n",
       " '곤충',\n",
       " '국제기구',\n",
       " '동물',\n",
       " '바둑',\n",
       " '법',\n",
       " '식물',\n",
       " '아프리카',\n",
       " '오세아니아',\n",
       " '외교',\n",
       " '육아',\n",
       " '인테리어',\n",
       " '전시관',\n",
       " '정치',\n",
       " '패션',\n",
       " '한국음식',\n",
       " '행정_기관_단체',\n",
       " '헤어',\n",
       " '회계_세무',\n",
       " '화학',\n",
       " '군사',\n",
       " '생명과학',\n",
       " '직업']"
      ]
     },
     "execution_count": 2,
     "metadata": {},
     "output_type": "execute_result"
    }
   ],
   "source": [
    "\n",
    "path = \"G:/내 드라이브/web_crawling/\"\n",
    "file_list = os.listdir(path)\n",
    "names = [file[:-4] for file in file_list]\n",
    "names"
   ]
  },
  {
   "cell_type": "code",
   "execution_count": 3,
   "metadata": {},
   "outputs": [],
   "source": [
    "df = pd.DataFrame(columns=['topic', 'sub_topic', 'contents', 'label'])"
   ]
  },
  {
   "cell_type": "code",
   "execution_count": 4,
   "metadata": {},
   "outputs": [
    {
     "data": {
      "text/html": [
       "<div>\n",
       "<style scoped>\n",
       "    .dataframe tbody tr th:only-of-type {\n",
       "        vertical-align: middle;\n",
       "    }\n",
       "\n",
       "    .dataframe tbody tr th {\n",
       "        vertical-align: top;\n",
       "    }\n",
       "\n",
       "    .dataframe thead th {\n",
       "        text-align: right;\n",
       "    }\n",
       "</style>\n",
       "<table border=\"1\" class=\"dataframe\">\n",
       "  <thead>\n",
       "    <tr style=\"text-align: right;\">\n",
       "      <th></th>\n",
       "      <th>topic</th>\n",
       "      <th>sub_topic</th>\n",
       "      <th>contents</th>\n",
       "      <th>label</th>\n",
       "    </tr>\n",
       "  </thead>\n",
       "  <tbody>\n",
       "    <tr>\n",
       "      <th>0</th>\n",
       "      <td>한국문학</td>\n",
       "      <td>화수분</td>\n",
       "      <td>1925년 1월 조선문단 에 발표된 전영택의 단편 소설.이 작품이 발표된 1920년...</td>\n",
       "      <td>0</td>\n",
       "    </tr>\n",
       "    <tr>\n",
       "      <th>1</th>\n",
       "      <td>한국문학</td>\n",
       "      <td>원진살</td>\n",
       "      <td>부부 사이에 까닭없이 서로 미워하는 한 때의 액운 . 남녀 궁합 에서 서로 꺼리는...</td>\n",
       "      <td>0</td>\n",
       "    </tr>\n",
       "    <tr>\n",
       "      <th>2</th>\n",
       "      <td>한국문학</td>\n",
       "      <td>서사</td>\n",
       "      <td>일반적으로 서사 는 어떤 사실을 있는 그대로 기록하는 글의 양식을 말한다. 서사는 ...</td>\n",
       "      <td>0</td>\n",
       "    </tr>\n",
       "    <tr>\n",
       "      <th>3</th>\n",
       "      <td>한국문학</td>\n",
       "      <td>자의식과잉</td>\n",
       "      <td>자기 마음의 위치에 신경을 쓰는 자의식 또는 자기에 대한 자각적 의식. 전자처럼 자...</td>\n",
       "      <td>0</td>\n",
       "    </tr>\n",
       "    <tr>\n",
       "      <th>4</th>\n",
       "      <td>한국문학</td>\n",
       "      <td>상충살</td>\n",
       "      <td>사람이나 사물이 서로 어울리지 않고 마주치게 되는 해치거나 깨진다는 독하고 모진 기...</td>\n",
       "      <td>0</td>\n",
       "    </tr>\n",
       "    <tr>\n",
       "      <th>...</th>\n",
       "      <td>...</td>\n",
       "      <td>...</td>\n",
       "      <td>...</td>\n",
       "      <td>...</td>\n",
       "    </tr>\n",
       "    <tr>\n",
       "      <th>8047</th>\n",
       "      <td>직업</td>\n",
       "      <td>반도체칩접합공정기술자</td>\n",
       "      <td>반도체 품질수율 및 생산성 향상을 위해 조립 및 장비기술자와 협의하여 칩접합 공정...</td>\n",
       "      <td>90</td>\n",
       "    </tr>\n",
       "    <tr>\n",
       "      <th>8048</th>\n",
       "      <td>직업</td>\n",
       "      <td>편망기보전원</td>\n",
       "      <td>끈이나 실을 사용하여 그물을 짜는 편망기를 조정 수리한다.</td>\n",
       "      <td>90</td>\n",
       "    </tr>\n",
       "    <tr>\n",
       "      <th>8049</th>\n",
       "      <td>직업</td>\n",
       "      <td>포도파쇄원</td>\n",
       "      <td>포도주 발효에 사용되는 포도액을 제조하고자 포도송이를 분쇄하는 기계를 조작 관리한다.</td>\n",
       "      <td>90</td>\n",
       "    </tr>\n",
       "    <tr>\n",
       "      <th>8050</th>\n",
       "      <td>직업</td>\n",
       "      <td>포도주저온살균원</td>\n",
       "      <td>포도주를 장기간 보존하고자 발효된 포도주를 저온으로 살균하는 탱크를 조작 관리한다.</td>\n",
       "      <td>90</td>\n",
       "    </tr>\n",
       "    <tr>\n",
       "      <th>8051</th>\n",
       "      <td>직업</td>\n",
       "      <td>포도주저장실반장</td>\n",
       "      <td>포도주를 저장 숙성하는 데 종사하는 작업원의 활동을 감독 조정한다.</td>\n",
       "      <td>90</td>\n",
       "    </tr>\n",
       "  </tbody>\n",
       "</table>\n",
       "<p>386367 rows × 4 columns</p>\n",
       "</div>"
      ],
      "text/plain": [
       "     topic    sub_topic                                           contents  \\\n",
       "0     한국문학          화수분  1925년 1월 조선문단 에 발표된 전영택의 단편 소설.이 작품이 발표된 1920년...   \n",
       "1     한국문학          원진살   부부 사이에 까닭없이 서로 미워하는 한 때의 액운 . 남녀 궁합 에서 서로 꺼리는...   \n",
       "2     한국문학           서사  일반적으로 서사 는 어떤 사실을 있는 그대로 기록하는 글의 양식을 말한다. 서사는 ...   \n",
       "3     한국문학        자의식과잉  자기 마음의 위치에 신경을 쓰는 자의식 또는 자기에 대한 자각적 의식. 전자처럼 자...   \n",
       "4     한국문학          상충살  사람이나 사물이 서로 어울리지 않고 마주치게 되는 해치거나 깨진다는 독하고 모진 기...   \n",
       "...    ...          ...                                                ...   \n",
       "8047    직업  반도체칩접합공정기술자   반도체 품질수율 및 생산성 향상을 위해 조립 및 장비기술자와 협의하여 칩접합 공정...   \n",
       "8048    직업       편망기보전원                  끈이나 실을 사용하여 그물을 짜는 편망기를 조정 수리한다.    \n",
       "8049    직업        포도파쇄원   포도주 발효에 사용되는 포도액을 제조하고자 포도송이를 분쇄하는 기계를 조작 관리한다.    \n",
       "8050    직업     포도주저온살균원    포도주를 장기간 보존하고자 발효된 포도주를 저온으로 살균하는 탱크를 조작 관리한다.    \n",
       "8051    직업     포도주저장실반장             포도주를 저장 숙성하는 데 종사하는 작업원의 활동을 감독 조정한다.    \n",
       "\n",
       "     label  \n",
       "0        0  \n",
       "1        0  \n",
       "2        0  \n",
       "3        0  \n",
       "4        0  \n",
       "...    ...  \n",
       "8047    90  \n",
       "8048    90  \n",
       "8049    90  \n",
       "8050    90  \n",
       "8051    90  \n",
       "\n",
       "[386367 rows x 4 columns]"
      ]
     },
     "execution_count": 4,
     "metadata": {},
     "output_type": "execute_result"
    }
   ],
   "source": [
    "idx = 0\n",
    "topic_index = dict()\n",
    "for name in names:\n",
    "    temp_df = pd.read_csv(path+\"/\"+name+'.csv', encoding= 'cp949', names=['url', 'sub_topic', 'contents'])\n",
    "    len_ = len(temp_df)\n",
    "    temp_df['topic'] = [name]*len_\n",
    "    temp_df['label'] = [idx]*len_\n",
    "    temp_df = temp_df.loc[:, ['topic', 'sub_topic', 'contents','label']]\n",
    "    df = pd.concat([df, temp_df])\n",
    "    topic_index[name] = idx\n",
    "    idx += 1\n",
    "    del temp_df\n",
    "df"
   ]
  },
  {
   "cell_type": "code",
   "execution_count": 5,
   "metadata": {},
   "outputs": [
    {
     "data": {
      "text/plain": [
       "386367"
      ]
     },
     "execution_count": 5,
     "metadata": {},
     "output_type": "execute_result"
    }
   ],
   "source": [
    "# 데이터 셋 크기\n",
    "len(df)"
   ]
  },
  {
   "cell_type": "code",
   "execution_count": 6,
   "metadata": {},
   "outputs": [
    {
     "data": {
      "text/html": [
       "<div>\n",
       "<style scoped>\n",
       "    .dataframe tbody tr th:only-of-type {\n",
       "        vertical-align: middle;\n",
       "    }\n",
       "\n",
       "    .dataframe tbody tr th {\n",
       "        vertical-align: top;\n",
       "    }\n",
       "\n",
       "    .dataframe thead th {\n",
       "        text-align: right;\n",
       "    }\n",
       "</style>\n",
       "<table border=\"1\" class=\"dataframe\">\n",
       "  <thead>\n",
       "    <tr style=\"text-align: right;\">\n",
       "      <th></th>\n",
       "      <th>topic</th>\n",
       "      <th>sub_topic</th>\n",
       "      <th>contents</th>\n",
       "      <th>label</th>\n",
       "    </tr>\n",
       "  </thead>\n",
       "  <tbody>\n",
       "    <tr>\n",
       "      <th>0</th>\n",
       "      <td>심리</td>\n",
       "      <td>반두라</td>\n",
       "      <td>캐나다 출신의 사회인지학습이론의 창시자이며 스탠퍼드대학교 심리학부 명예교수</td>\n",
       "      <td>30</td>\n",
       "    </tr>\n",
       "    <tr>\n",
       "      <th>1</th>\n",
       "      <td>중국문학</td>\n",
       "      <td>생원</td>\n",
       "      <td>학위 이름</td>\n",
       "      <td>1</td>\n",
       "    </tr>\n",
       "    <tr>\n",
       "      <th>2</th>\n",
       "      <td>의학</td>\n",
       "      <td>mediastinal</td>\n",
       "      <td>세로칸 종격 종격동 의. 종격동 기형종 mediastinal teratoma Che...</td>\n",
       "      <td>9</td>\n",
       "    </tr>\n",
       "    <tr>\n",
       "      <th>3</th>\n",
       "      <td>만화</td>\n",
       "      <td>킵테이크</td>\n",
       "      <td>촬영과 편집 작업 후 최종 완성 작품까지 사용하는 화면.</td>\n",
       "      <td>40</td>\n",
       "    </tr>\n",
       "    <tr>\n",
       "      <th>4</th>\n",
       "      <td>환경</td>\n",
       "      <td>배출압력</td>\n",
       "      <td>펌프나 압축기 송풍기 등의 배출구에서 측정되는 유체의 압력을 말한다.</td>\n",
       "      <td>11</td>\n",
       "    </tr>\n",
       "  </tbody>\n",
       "</table>\n",
       "</div>"
      ],
      "text/plain": [
       "  topic    sub_topic                                           contents label\n",
       "0    심리          반두라         캐나다 출신의 사회인지학습이론의 창시자이며 스탠퍼드대학교 심리학부 명예교수     30\n",
       "1  중국문학           생원                                             학위 이름      1\n",
       "2    의학  mediastinal  세로칸 종격 종격동 의. 종격동 기형종 mediastinal teratoma Che...     9\n",
       "3    만화         킵테이크                   촬영과 편집 작업 후 최종 완성 작품까지 사용하는 화면.     40\n",
       "4    환경         배출압력            펌프나 압축기 송풍기 등의 배출구에서 측정되는 유체의 압력을 말한다.     11"
      ]
     },
     "execution_count": 6,
     "metadata": {},
     "output_type": "execute_result"
    }
   ],
   "source": [
    "# 데이터 섞기\n",
    "df_shuffled=df.sample(frac=1).reset_index(drop=True)\n",
    "df_shuffled.head()"
   ]
  },
  {
   "cell_type": "markdown",
   "metadata": {},
   "source": [
    "### 데이터 셋 구조 확인"
   ]
  },
  {
   "cell_type": "code",
   "execution_count": 7,
   "metadata": {},
   "outputs": [
    {
     "data": {
      "text/plain": [
       "386367"
      ]
     },
     "execution_count": 7,
     "metadata": {},
     "output_type": "execute_result"
    }
   ],
   "source": [
    "# 데이터 셋 전체 크기\n",
    "len(df_shuffled)"
   ]
  },
  {
   "cell_type": "code",
   "execution_count": 13,
   "metadata": {},
   "outputs": [],
   "source": [
    "# 데이터 셋을 input, output구별\n",
    "X = df_shuffled.loc[:, 'contents'].values\n",
    "Y = df_shuffled.loc[:, 'label'].values\n"
   ]
  },
  {
   "cell_type": "code",
   "execution_count": 24,
   "metadata": {},
   "outputs": [
    {
     "name": "stdout",
     "output_type": "stream",
     "text": [
      "91\n",
      "[[0. 0. 0. ... 0. 0. 0.]\n",
      " [0. 1. 0. ... 0. 0. 0.]\n",
      " [0. 0. 0. ... 0. 0. 0.]\n",
      " ...\n",
      " [0. 0. 0. ... 0. 0. 0.]\n",
      " [0. 0. 0. ... 0. 1. 0.]\n",
      " [0. 0. 0. ... 0. 1. 0.]]\n"
     ]
    }
   ],
   "source": [
    "# 카테고리 개수\n",
    "nb_classes = len(set(Y))\n",
    "print(nb_classes)\n",
    "Y = np_utils.to_categorical(Y, nb_classes)\n",
    "print(Y)"
   ]
  },
  {
   "cell_type": "code",
   "execution_count": 25,
   "metadata": {
    "scrolled": true
   },
   "outputs": [
    {
     "data": {
      "text/plain": [
       "{'한국문학': 0,\n",
       " '중국문학': 1,\n",
       " '영미문학': 2,\n",
       " '일본문학': 3,\n",
       " '이슬람교': 4,\n",
       " '기타종교': 5,\n",
       " '한국_철학_윤리': 6,\n",
       " '교양_인문': 7,\n",
       " '질병': 8,\n",
       " '의학': 9,\n",
       " '약학': 10,\n",
       " '환경': 11,\n",
       " '농학': 12,\n",
       " '건축물': 13,\n",
       " '공예': 14,\n",
       " '색채': 15,\n",
       " '드라마': 16,\n",
       " '영화': 17,\n",
       " '뮤지컬': 18,\n",
       " '음악용어': 19,\n",
       " '한국_역사_문화': 20,\n",
       " '중동_역사_문화': 21,\n",
       " '세계_역사_문화': 22,\n",
       " '중동': 23,\n",
       " '유럽': 24,\n",
       " '북아메리카': 25,\n",
       " '남아메리카': 26,\n",
       " '악기': 27,\n",
       " '속담': 28,\n",
       " '무기': 29,\n",
       " '심리': 30,\n",
       " '건설_토목': 31,\n",
       " '음악사': 32,\n",
       " 'IT': 33,\n",
       " '댄스_무용': 34,\n",
       " '한국_민속': 35,\n",
       " '클래식': 36,\n",
       " '기계_자동차_금속': 37,\n",
       " '교양영어사전': 38,\n",
       " '미술': 39,\n",
       " '만화': 40,\n",
       " '불교': 41,\n",
       " '아시아_역사_문화': 42,\n",
       " '명화': 43,\n",
       " '유럽_역사_문화': 44,\n",
       " '기독교': 45,\n",
       " '서양_철학_윤리': 46,\n",
       " '아시아': 47,\n",
       " '한국': 48,\n",
       " '동양_철학_윤리': 49,\n",
       " '호텔': 50,\n",
       " '부동산': 51,\n",
       " '무역': 52,\n",
       " '사회복지': 53,\n",
       " '독일문학': 54,\n",
       " '북한문학': 55,\n",
       " '세계문학': 56,\n",
       " '프랑스문학': 57,\n",
       " '수학': 58,\n",
       " '물리학': 59,\n",
       " '지구과학': 60,\n",
       " '천문학': 61,\n",
       " '세계음식': 62,\n",
       " '재료': 63,\n",
       " '주류': 64,\n",
       " '커피_차': 65,\n",
       " '기업_브랜드': 66,\n",
       " '게임': 67,\n",
       " '경제': 68,\n",
       " '곤충': 69,\n",
       " '국제기구': 70,\n",
       " '동물': 71,\n",
       " '바둑': 72,\n",
       " '법': 73,\n",
       " '식물': 74,\n",
       " '아프리카': 75,\n",
       " '오세아니아': 76,\n",
       " '외교': 77,\n",
       " '육아': 78,\n",
       " '인테리어': 79,\n",
       " '전시관': 80,\n",
       " '정치': 81,\n",
       " '패션': 82,\n",
       " '한국음식': 83,\n",
       " '행정_기관_단체': 84,\n",
       " '헤어': 85,\n",
       " '회계_세무': 86,\n",
       " '화학': 87,\n",
       " '군사': 88,\n",
       " '생명과학': 89,\n",
       " '직업': 90}"
      ]
     },
     "execution_count": 25,
     "metadata": {},
     "output_type": "execute_result"
    }
   ],
   "source": [
    "# 카테고리 종류들\n",
    "topic_index"
   ]
  },
  {
   "cell_type": "markdown",
   "metadata": {},
   "source": [
    "#### 데이터 전처리 작업"
   ]
  },
  {
   "cell_type": "code",
   "execution_count": 26,
   "metadata": {},
   "outputs": [
    {
     "data": {
      "text/plain": [
       "' 캐나다 출신의 사회인지학습이론의 창시자이며 스탠퍼드대학교 심리학부 명예교수 '"
      ]
     },
     "execution_count": 26,
     "metadata": {},
     "output_type": "execute_result"
    }
   ],
   "source": [
    "X[0]"
   ]
  },
  {
   "cell_type": "code",
   "execution_count": 44,
   "metadata": {},
   "outputs": [],
   "source": [
    "# 데이터 Tokenize\n",
    "import konlpy\n",
    "from konlpy.tag import Okt\n",
    "okt = Okt()\n",
    "    "
   ]
  },
  {
   "cell_type": "code",
   "execution_count": 42,
   "metadata": {},
   "outputs": [],
   "source": [
    "path = './korean_stopwords.txt'\n",
    "f = open(path, 'r', encoding='utf-8')\n",
    "stop_words = []\n",
    "while True:\n",
    "    line = f.readline()\n",
    "    if not line: break\n",
    "    stop_words.append(line.split()[0])\n",
    "f.close()"
   ]
  },
  {
   "cell_type": "code",
   "execution_count": 43,
   "metadata": {},
   "outputs": [
    {
     "data": {
      "text/plain": [
       "['이', '있', '하', '것', '들']"
      ]
     },
     "execution_count": 43,
     "metadata": {},
     "output_type": "execute_result"
    }
   ],
   "source": [
    "stop_words[:5]"
   ]
  },
  {
   "cell_type": "code",
   "execution_count": 45,
   "metadata": {},
   "outputs": [
    {
     "ename": "KeyboardInterrupt",
     "evalue": "",
     "output_type": "error",
     "traceback": [
      "\u001b[1;31m---------------------------------------------------------------------------\u001b[0m",
      "\u001b[1;31mKeyboardInterrupt\u001b[0m                         Traceback (most recent call last)",
      "\u001b[1;32m<ipython-input-45-fe5a44e84583>\u001b[0m in \u001b[0;36m<module>\u001b[1;34m\u001b[0m\n\u001b[0;32m      2\u001b[0m \u001b[1;32mfor\u001b[0m \u001b[0msentence\u001b[0m \u001b[1;32min\u001b[0m \u001b[0mX\u001b[0m\u001b[1;33m:\u001b[0m\u001b[1;33m\u001b[0m\u001b[1;33m\u001b[0m\u001b[0m\n\u001b[0;32m      3\u001b[0m     \u001b[1;31m# 1. 토큰화\u001b[0m\u001b[1;33m\u001b[0m\u001b[1;33m\u001b[0m\u001b[1;33m\u001b[0m\u001b[0m\n\u001b[1;32m----> 4\u001b[1;33m     \u001b[0mtemp\u001b[0m \u001b[1;33m=\u001b[0m \u001b[0mokt\u001b[0m\u001b[1;33m.\u001b[0m\u001b[0mmorphs\u001b[0m\u001b[1;33m(\u001b[0m\u001b[0msentence\u001b[0m\u001b[1;33m,\u001b[0m \u001b[0mstem\u001b[0m\u001b[1;33m=\u001b[0m\u001b[1;32mTrue\u001b[0m\u001b[1;33m)\u001b[0m \u001b[1;31m# 토큰화\u001b[0m\u001b[1;33m\u001b[0m\u001b[1;33m\u001b[0m\u001b[0m\n\u001b[0m\u001b[0;32m      5\u001b[0m     \u001b[0mtemp\u001b[0m \u001b[1;33m=\u001b[0m \u001b[1;33m[\u001b[0m\u001b[0mi\u001b[0m \u001b[1;32mfor\u001b[0m \u001b[0mi\u001b[0m \u001b[1;32min\u001b[0m \u001b[0mtemp\u001b[0m \u001b[1;32mif\u001b[0m \u001b[0mi\u001b[0m \u001b[1;32mnot\u001b[0m \u001b[1;32min\u001b[0m \u001b[0mstop_words\u001b[0m\u001b[1;33m]\u001b[0m\u001b[1;33m\u001b[0m\u001b[1;33m\u001b[0m\u001b[0m\n\u001b[0;32m      6\u001b[0m     \u001b[0mnew_X\u001b[0m\u001b[1;33m.\u001b[0m\u001b[0mappend\u001b[0m\u001b[1;33m(\u001b[0m\u001b[0mtemp\u001b[0m\u001b[1;33m)\u001b[0m\u001b[1;33m\u001b[0m\u001b[1;33m\u001b[0m\u001b[0m\n",
      "\u001b[1;32mc:\\users\\msi\\appdata\\local\\programs\\python\\python37\\lib\\site-packages\\konlpy\\tag\\_okt.py\u001b[0m in \u001b[0;36mmorphs\u001b[1;34m(self, phrase, norm, stem)\u001b[0m\n\u001b[0;32m     76\u001b[0m         \u001b[1;34m\"\"\"Parse phrase to morphemes.\"\"\"\u001b[0m\u001b[1;33m\u001b[0m\u001b[1;33m\u001b[0m\u001b[0m\n\u001b[0;32m     77\u001b[0m \u001b[1;33m\u001b[0m\u001b[0m\n\u001b[1;32m---> 78\u001b[1;33m         \u001b[1;32mreturn\u001b[0m \u001b[1;33m[\u001b[0m\u001b[0ms\u001b[0m \u001b[1;32mfor\u001b[0m \u001b[0ms\u001b[0m\u001b[1;33m,\u001b[0m \u001b[0mt\u001b[0m \u001b[1;32min\u001b[0m \u001b[0mself\u001b[0m\u001b[1;33m.\u001b[0m\u001b[0mpos\u001b[0m\u001b[1;33m(\u001b[0m\u001b[0mphrase\u001b[0m\u001b[1;33m,\u001b[0m \u001b[0mnorm\u001b[0m\u001b[1;33m=\u001b[0m\u001b[0mnorm\u001b[0m\u001b[1;33m,\u001b[0m \u001b[0mstem\u001b[0m\u001b[1;33m=\u001b[0m\u001b[0mstem\u001b[0m\u001b[1;33m)\u001b[0m\u001b[1;33m]\u001b[0m\u001b[1;33m\u001b[0m\u001b[1;33m\u001b[0m\u001b[0m\n\u001b[0m\u001b[0;32m     79\u001b[0m \u001b[1;33m\u001b[0m\u001b[0m\n\u001b[0;32m     80\u001b[0m     \u001b[1;32mdef\u001b[0m \u001b[0mphrases\u001b[0m\u001b[1;33m(\u001b[0m\u001b[0mself\u001b[0m\u001b[1;33m,\u001b[0m \u001b[0mphrase\u001b[0m\u001b[1;33m)\u001b[0m\u001b[1;33m:\u001b[0m\u001b[1;33m\u001b[0m\u001b[1;33m\u001b[0m\u001b[0m\n",
      "\u001b[1;32mc:\\users\\msi\\appdata\\local\\programs\\python\\python37\\lib\\site-packages\\konlpy\\tag\\_okt.py\u001b[0m in \u001b[0;36mpos\u001b[1;34m(self, phrase, norm, stem, join)\u001b[0m\n\u001b[0;32m     61\u001b[0m                     \u001b[0mphrase\u001b[0m\u001b[1;33m,\u001b[0m\u001b[1;33m\u001b[0m\u001b[1;33m\u001b[0m\u001b[0m\n\u001b[0;32m     62\u001b[0m                     \u001b[0mjpype\u001b[0m\u001b[1;33m.\u001b[0m\u001b[0mjava\u001b[0m\u001b[1;33m.\u001b[0m\u001b[0mlang\u001b[0m\u001b[1;33m.\u001b[0m\u001b[0mBoolean\u001b[0m\u001b[1;33m(\u001b[0m\u001b[0mnorm\u001b[0m\u001b[1;33m)\u001b[0m\u001b[1;33m,\u001b[0m\u001b[1;33m\u001b[0m\u001b[1;33m\u001b[0m\u001b[0m\n\u001b[1;32m---> 63\u001b[1;33m                     jpype.java.lang.Boolean(stem)).toArray()\n\u001b[0m\u001b[0;32m     64\u001b[0m         \u001b[1;32mif\u001b[0m \u001b[0mjoin\u001b[0m\u001b[1;33m:\u001b[0m\u001b[1;33m\u001b[0m\u001b[1;33m\u001b[0m\u001b[0m\n\u001b[0;32m     65\u001b[0m             \u001b[1;32mreturn\u001b[0m \u001b[1;33m[\u001b[0m\u001b[0mt\u001b[0m \u001b[1;32mfor\u001b[0m \u001b[0mt\u001b[0m \u001b[1;32min\u001b[0m \u001b[0mtokens\u001b[0m\u001b[1;33m]\u001b[0m\u001b[1;33m\u001b[0m\u001b[1;33m\u001b[0m\u001b[0m\n",
      "\u001b[1;31mKeyboardInterrupt\u001b[0m: "
     ]
    }
   ],
   "source": [
    "new_X = []\n",
    "for sentence in X:\n",
    "    # 1. 토큰화\n",
    "    temp = okt.morphs(sentence, stem=True)\n",
    "    # 2. 불용어 제거\n",
    "    temp = [i for i in temp if i not in stop_words]\n",
    "    new_X.append(temp)"
   ]
  },
  {
   "cell_type": "code",
   "execution_count": null,
   "metadata": {},
   "outputs": [],
   "source": [
    "new_X[0]"
   ]
  },
  {
   "cell_type": "code",
   "execution_count": null,
   "metadata": {},
   "outputs": [],
   "source": [
    "df10 = pd.DataFrame(new_X)\n",
    "df10.to_csv('./xtrain.csv',mode='w',index=False)"
   ]
  },
  {
   "cell_type": "code",
   "execution_count": null,
   "metadata": {},
   "outputs": [],
   "source": [
    "#X_train, X_test, Y_train, Y_test = train_test_split(X, Y, test_size=0.33)\n",
    "print(\"train set : \",len(X_train), len(Y_train))\n",
    "print(\"test set : \", len(X_test), len(Y_test))"
   ]
  }
 ],
 "metadata": {
  "kernelspec": {
   "display_name": "Python 3",
   "language": "python",
   "name": "python3"
  },
  "language_info": {
   "codemirror_mode": {
    "name": "ipython",
    "version": 3
   },
   "file_extension": ".py",
   "mimetype": "text/x-python",
   "name": "python",
   "nbconvert_exporter": "python",
   "pygments_lexer": "ipython3",
   "version": "3.7.3"
  }
 },
 "nbformat": 4,
 "nbformat_minor": 4
}
