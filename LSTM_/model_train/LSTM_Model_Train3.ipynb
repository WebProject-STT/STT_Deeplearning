{
 "cells": [
  {
   "cell_type": "code",
   "execution_count": null,
   "metadata": {
    "id": "RdQxfYJj5akO"
   },
   "outputs": [],
   "source": [
    "from google.colab import drive\r\n",
    "drive.mount('/gdrive', force_remount=True)"
   ]
  },
  {
   "cell_type": "markdown",
   "metadata": {
    "id": "yRLcGcBeW3uG"
   },
   "source": [
    "### Mecab 설치"
   ]
  },
  {
   "cell_type": "code",
   "execution_count": 2,
   "metadata": {
    "colab": {
     "base_uri": "https://localhost:8080/"
    },
    "id": "3grf4sICW6GF",
    "outputId": "969e9dc3-e1e6-4a29-e1c3-86d0e3ffaa35"
   },
   "outputs": [
    {
     "name": "stdout",
     "output_type": "stream",
     "text": [
      "Cloning into 'Mecab-ko-for-Google-Colab'...\n",
      "remote: Enumerating objects: 91, done.\u001b[K\n",
      "remote: Counting objects: 100% (91/91), done.\u001b[K\n",
      "remote: Compressing objects: 100% (85/85), done.\u001b[K\n",
      "remote: Total 91 (delta 43), reused 22 (delta 6), pack-reused 0\u001b[K\n",
      "Unpacking objects: 100% (91/91), done.\n"
     ]
    }
   ],
   "source": [
    "! git clone https://github.com/SOMJANG/Mecab-ko-for-Google-Colab.git\r\n"
   ]
  },
  {
   "cell_type": "code",
   "execution_count": 3,
   "metadata": {
    "colab": {
     "base_uri": "https://localhost:8080/"
    },
    "id": "nIUKU6coXL6W",
    "outputId": "1a9474f1-2ff0-4aa7-e54c-04f72f990cc6"
   },
   "outputs": [
    {
     "name": "stdout",
     "output_type": "stream",
     "text": [
      "\u001b[0m\u001b[01;34mdrive\u001b[0m/  \u001b[01;34mMecab-ko-for-Google-Colab\u001b[0m/  \u001b[01;34msample_data\u001b[0m/\n"
     ]
    }
   ],
   "source": [
    "ls"
   ]
  },
  {
   "cell_type": "code",
   "execution_count": 5,
   "metadata": {
    "colab": {
     "base_uri": "https://localhost:8080/"
    },
    "id": "6pawkcBfXOKl",
    "outputId": "86c1bcb6-4e50-4864-8bac-f9a423cc7823"
   },
   "outputs": [
    {
     "name": "stdout",
     "output_type": "stream",
     "text": [
      "/content/Mecab-ko-for-Google-Colab\n"
     ]
    }
   ],
   "source": [
    "cd Mecab-ko-for-Google-Colab/"
   ]
  },
  {
   "cell_type": "code",
   "execution_count": 6,
   "metadata": {
    "colab": {
     "base_uri": "https://localhost:8080/"
    },
    "id": "U7XZDQKxXUfC",
    "outputId": "374a21df-2c37-4919-b424-811085821885"
   },
   "outputs": [
    {
     "name": "stdout",
     "output_type": "stream",
     "text": [
      "\u001b[0m\u001b[01;34mimages\u001b[0m/                                    LICENSE\n",
      "install_mecab-ko_on_colab190912.sh         README.md\n",
      "install_mecab-ko_on_colab_light_210108.sh\n"
     ]
    }
   ],
   "source": [
    "ls"
   ]
  },
  {
   "cell_type": "code",
   "execution_count": null,
   "metadata": {
    "id": "aNYaEve8XVbX"
   },
   "outputs": [],
   "source": [
    "! bash install_mecab-ko_on_colab190912.sh"
   ]
  },
  {
   "cell_type": "code",
   "execution_count": 1,
   "metadata": {
    "colab": {
     "base_uri": "https://localhost:8080/"
    },
    "id": "szj_lboiL82-",
    "outputId": "a2a20f13-85f7-44cb-b392-1e32b42566fd"
   },
   "outputs": [
    {
     "data": {
      "text/plain": [
       "['colab', '에서', 'mecab', '테스트', '중', '입니다', '!']"
      ]
     },
     "execution_count": 1,
     "metadata": {},
     "output_type": "execute_result"
    }
   ],
   "source": [
    "# mecab 테스트하기\r\n",
    "from konlpy.tag import Mecab\r\n",
    "mecab = Mecab()\r\n",
    "text = u\"\"\"colab에서 mecab테스트 중입니다!\"\"\"\r\n",
    "mecab.morphs(text)"
   ]
  },
  {
   "cell_type": "markdown",
   "metadata": {
    "id": "c828K1mKYRUR"
   },
   "source": [
    "### 필요한 라이브러리들 설치\r\n",
    "- keras/tensorflow\r\n",
    "- numpy, pandas, matplotlib\r\n",
    "- sklearn"
   ]
  },
  {
   "cell_type": "code",
   "execution_count": null,
   "metadata": {
    "id": "Qj5NUpgPYAqO"
   },
   "outputs": [],
   "source": [
    "!pip install tensorflow\r\n",
    "!pip install keras\r\n"
   ]
  },
  {
   "cell_type": "code",
   "execution_count": 2,
   "metadata": {
    "colab": {
     "base_uri": "https://localhost:8080/"
    },
    "id": "Wv8TWyJBY1PC",
    "outputId": "ef5b1a90-2e07-47ac-bad0-00fc29dd45ba"
   },
   "outputs": [
    {
     "name": "stderr",
     "output_type": "stream",
     "text": [
      "Using TensorFlow backend.\n"
     ]
    },
    {
     "name": "stdout",
     "output_type": "stream",
     "text": [
      "2.3.0\n",
      "1.15.0\n"
     ]
    }
   ],
   "source": [
    "import keras\r\n",
    "import tensorflow as tf\r\n",
    "print(keras.__version__)\r\n",
    "print(tf.__version__)"
   ]
  },
  {
   "cell_type": "code",
   "execution_count": 12,
   "metadata": {
    "colab": {
     "base_uri": "https://localhost:8080/"
    },
    "id": "3o0UVKwwY-fi",
    "outputId": "ba6a64ba-f3ac-46c1-d83e-0bd50e0b8c47"
   },
   "outputs": [
    {
     "name": "stdout",
     "output_type": "stream",
     "text": [
      "Requirement already satisfied: numpy in /usr/local/lib/python3.6/dist-packages (1.19.5)\n",
      "Requirement already satisfied: pandas in /usr/local/lib/python3.6/dist-packages (1.1.5)\n",
      "Requirement already satisfied: numpy>=1.15.4 in /usr/local/lib/python3.6/dist-packages (from pandas) (1.19.5)\n",
      "Requirement already satisfied: python-dateutil>=2.7.3 in /usr/local/lib/python3.6/dist-packages (from pandas) (2.8.1)\n",
      "Requirement already satisfied: pytz>=2017.2 in /usr/local/lib/python3.6/dist-packages (from pandas) (2018.9)\n",
      "Requirement already satisfied: six>=1.5 in /usr/local/lib/python3.6/dist-packages (from python-dateutil>=2.7.3->pandas) (1.15.0)\n",
      "Requirement already satisfied: matplotlib in /usr/local/lib/python3.6/dist-packages (3.2.2)\n",
      "Requirement already satisfied: numpy>=1.11 in /usr/local/lib/python3.6/dist-packages (from matplotlib) (1.19.5)\n",
      "Requirement already satisfied: python-dateutil>=2.1 in /usr/local/lib/python3.6/dist-packages (from matplotlib) (2.8.1)\n",
      "Requirement already satisfied: kiwisolver>=1.0.1 in /usr/local/lib/python3.6/dist-packages (from matplotlib) (1.3.1)\n",
      "Requirement already satisfied: pyparsing!=2.0.4,!=2.1.2,!=2.1.6,>=2.0.1 in /usr/local/lib/python3.6/dist-packages (from matplotlib) (2.4.7)\n",
      "Requirement already satisfied: cycler>=0.10 in /usr/local/lib/python3.6/dist-packages (from matplotlib) (0.10.0)\n",
      "Requirement already satisfied: six>=1.5 in /usr/local/lib/python3.6/dist-packages (from python-dateutil>=2.1->matplotlib) (1.15.0)\n",
      "Requirement already satisfied: scikit-learn in /usr/local/lib/python3.6/dist-packages (0.22.2.post1)\n",
      "Requirement already satisfied: joblib>=0.11 in /usr/local/lib/python3.6/dist-packages (from scikit-learn) (1.0.0)\n",
      "Requirement already satisfied: numpy>=1.11.0 in /usr/local/lib/python3.6/dist-packages (from scikit-learn) (1.19.5)\n",
      "Requirement already satisfied: scipy>=0.17.0 in /usr/local/lib/python3.6/dist-packages (from scikit-learn) (1.4.1)\n"
     ]
    }
   ],
   "source": [
    "!pip install numpy\r\n",
    "!pip install pandas\r\n",
    "!pip install matplotlib\r\n",
    "!pip install scikit-learn"
   ]
  },
  {
   "cell_type": "markdown",
   "metadata": {
    "id": "tHa1haukZU0w"
   },
   "source": [
    "#### 라이브러리 import"
   ]
  },
  {
   "cell_type": "code",
   "execution_count": 1,
   "metadata": {
    "id": "MnDCawXBZUaR"
   },
   "outputs": [
    {
     "name": "stderr",
     "output_type": "stream",
     "text": [
      "Using TensorFlow backend.\n"
     ]
    }
   ],
   "source": [
    "\r\n",
    "import os, json, glob, sys\r\n",
    "import pandas as pd\r\n",
    "import numpy as np\r\n",
    "from keras.utils import np_utils\r\n",
    "import matplotlib.pyplot as plt\r\n",
    "import matplotlib as mpl\r\n",
    "\r\n",
    "import tensorflow as tf\r\n",
    "\r\n",
    "from keras.preprocessing.text import Tokenizer\r\n",
    "from keras.preprocessing.sequence import pad_sequences\r\n",
    "from keras.preprocessing import sequence\r\n",
    "from keras.models import Sequential\r\n",
    "from keras.layers import Dense, Embedding, LSTM, Flatten, Dropout, Input, Conv1D, MaxPooling1D, GlobalMaxPool1D\r\n",
    "from keras.utils import np_utils\r\n",
    "from keras.callbacks import EarlyStopping, ModelCheckpoint\r\n",
    "from sklearn.model_selection import train_test_split\r\n",
    "\r\n",
    "from konlpy.tag import Mecab\r\n",
    "mecab = Mecab()\r\n"
   ]
  },
  {
   "cell_type": "markdown",
   "metadata": {
    "id": "gIQBKaKmaA_e"
   },
   "source": [
    "#### Dataset 불러오기"
   ]
  },
  {
   "cell_type": "code",
   "execution_count": 6,
   "metadata": {
    "colab": {
     "base_uri": "https://localhost:8080/"
    },
    "id": "JIoebXuGZQLG",
    "outputId": "fca478c1-74d4-4820-b8ca-ca86d1a9360b"
   },
   "outputs": [
    {
     "data": {
      "text/plain": [
       "['곤충',\n",
       " '행정_기관_단체',\n",
       " '한국_철학_윤리',\n",
       " '기타종교',\n",
       " '커피_차',\n",
       " '클래식',\n",
       " '영화',\n",
       " '군사',\n",
       " '부동산',\n",
       " '게임',\n",
       " '만화',\n",
       " '사회복지',\n",
       " '음악용어',\n",
       " '직업',\n",
       " '아프리카',\n",
       " '독일문학',\n",
       " '무역',\n",
       " '건축물',\n",
       " '육아',\n",
       " '북아메리카',\n",
       " '건설_토목',\n",
       " '농학',\n",
       " '프랑스문학',\n",
       " '영미문학',\n",
       " '중동_역사_문화',\n",
       " '한국_민속',\n",
       " '무기',\n",
       " '속담',\n",
       " '기계_자동차_금속',\n",
       " '국제기구',\n",
       " '외교',\n",
       " '이슬람교',\n",
       " '패션',\n",
       " '경제',\n",
       " '댄스_무용',\n",
       " '동물',\n",
       " '주류',\n",
       " '한국_역사_문화',\n",
       " '생명과학',\n",
       " '호텔',\n",
       " '법',\n",
       " '북한문학',\n",
       " '아시아',\n",
       " '남아메리카',\n",
       " '헤어',\n",
       " '서양_철학_윤리',\n",
       " '불교',\n",
       " '정치',\n",
       " '재료',\n",
       " '교양영어사전',\n",
       " '명화',\n",
       " '심리',\n",
       " '화학',\n",
       " '수학',\n",
       " '물리학',\n",
       " '세계_역사_문화',\n",
       " '세계음식',\n",
       " '중국문학',\n",
       " '미술',\n",
       " '한국음식',\n",
       " '의학',\n",
       " '환경',\n",
       " '색채',\n",
       " '드라마',\n",
       " '한국문학',\n",
       " '아시아_역사_문화',\n",
       " '교양_인문',\n",
       " '질병',\n",
       " '천문학',\n",
       " '뮤지컬',\n",
       " '식물',\n",
       " '인테리어',\n",
       " '오세아니아',\n",
       " '전시관',\n",
       " '악기',\n",
       " '일본문학',\n",
       " '약학',\n",
       " 'IT',\n",
       " '동양_철학_윤리',\n",
       " '회계_세무',\n",
       " '지구과학',\n",
       " '음악사',\n",
       " '공예',\n",
       " '유럽',\n",
       " '세계문학',\n",
       " '한국',\n",
       " '유럽_역사_문화',\n",
       " '바둑',\n",
       " '기독교',\n",
       " '중동',\n",
       " '기업_브랜드']"
      ]
     },
     "execution_count": 6,
     "metadata": {},
     "output_type": "execute_result"
    }
   ],
   "source": [
    "path = \"./web\"\r\n",
    "file_list = os.listdir(path)\r\n",
    "names = [file[:-4] for file in file_list]\r\n",
    "names"
   ]
  },
  {
   "cell_type": "code",
   "execution_count": 7,
   "metadata": {},
   "outputs": [
    {
     "data": {
      "text/html": [
       "<div>\n",
       "<style scoped>\n",
       "    .dataframe tbody tr th:only-of-type {\n",
       "        vertical-align: middle;\n",
       "    }\n",
       "\n",
       "    .dataframe tbody tr th {\n",
       "        vertical-align: top;\n",
       "    }\n",
       "\n",
       "    .dataframe thead th {\n",
       "        text-align: right;\n",
       "    }\n",
       "</style>\n",
       "<table border=\"1\" class=\"dataframe\">\n",
       "  <thead>\n",
       "    <tr style=\"text-align: right;\">\n",
       "      <th></th>\n",
       "      <th>topic</th>\n",
       "      <th>sub_topic</th>\n",
       "      <th>contents</th>\n",
       "      <th>label</th>\n",
       "    </tr>\n",
       "  </thead>\n",
       "  <tbody>\n",
       "    <tr>\n",
       "      <th>0</th>\n",
       "      <td>곤충</td>\n",
       "      <td>소금쟁이</td>\n",
       "      <td>몸 길이는 11 16mm이며 몸은 흑갈색 또는 검은색 바탕에 갈색 무늬를 띠고 은빛...</td>\n",
       "      <td>0</td>\n",
       "    </tr>\n",
       "    <tr>\n",
       "      <th>1</th>\n",
       "      <td>곤충</td>\n",
       "      <td>물방개</td>\n",
       "      <td>몸 길이는 34 42mm이며 몸은 약한 녹색 광택을 띠는 흑색인데 몸의 가장자리는 ...</td>\n",
       "      <td>0</td>\n",
       "    </tr>\n",
       "    <tr>\n",
       "      <th>2</th>\n",
       "      <td>곤충</td>\n",
       "      <td>쌀바구미</td>\n",
       "      <td>몸 길이는 3 4mm이고 흑갈색으로서 앞가슴의 등면과 앞날개 위에 원형의 작은 점...</td>\n",
       "      <td>0</td>\n",
       "    </tr>\n",
       "    <tr>\n",
       "      <th>3</th>\n",
       "      <td>곤충</td>\n",
       "      <td>동애등에</td>\n",
       "      <td>몸 길이는 13 20mm이며 전체적인 색상은 흑색이다. 얼굴은 흑갈색으로 길이가 매...</td>\n",
       "      <td>0</td>\n",
       "    </tr>\n",
       "    <tr>\n",
       "      <th>4</th>\n",
       "      <td>곤충</td>\n",
       "      <td>거저리</td>\n",
       "      <td>몸 길이는 13 17mm이며 몸은 흑갈색이고 광택이 있으며 길쭉한 모양이다. 앞가...</td>\n",
       "      <td>0</td>\n",
       "    </tr>\n",
       "    <tr>\n",
       "      <th>...</th>\n",
       "      <td>...</td>\n",
       "      <td>...</td>\n",
       "      <td>...</td>\n",
       "      <td>...</td>\n",
       "    </tr>\n",
       "    <tr>\n",
       "      <th>3843</th>\n",
       "      <td>기업_브랜드</td>\n",
       "      <td>패러마운트커뮤니케이션스</td>\n",
       "      <td>1994년 미디어그룹 비아콤에 합병된 미디어 커뮤니케이션회사</td>\n",
       "      <td>90</td>\n",
       "    </tr>\n",
       "    <tr>\n",
       "      <th>3844</th>\n",
       "      <td>기업_브랜드</td>\n",
       "      <td>대조선저마제사회사</td>\n",
       "      <td>삼과 모시를 합사하여 외국에 수출하기 위해 1897년 설립된 회사</td>\n",
       "      <td>90</td>\n",
       "    </tr>\n",
       "    <tr>\n",
       "      <th>3845</th>\n",
       "      <td>기업_브랜드</td>\n",
       "      <td>삼정사</td>\n",
       "      <td>조선 왕실이 1899년 세운 최초의 인삼전매회사다.</td>\n",
       "      <td>90</td>\n",
       "    </tr>\n",
       "    <tr>\n",
       "      <th>3846</th>\n",
       "      <td>기업_브랜드</td>\n",
       "      <td>핀시데르</td>\n",
       "      <td>자동차산업에 필요한 평면철강제품을 생산하는 데 주력해온 이탈리아의 대형 회사</td>\n",
       "      <td>90</td>\n",
       "    </tr>\n",
       "    <tr>\n",
       "      <th>3847</th>\n",
       "      <td>기업_브랜드</td>\n",
       "      <td>이탈시데르</td>\n",
       "      <td>1933년 이탈리아 파시스트 정부가 세운 산업재건공사 산하의 철강회사</td>\n",
       "      <td>90</td>\n",
       "    </tr>\n",
       "  </tbody>\n",
       "</table>\n",
       "<p>386367 rows × 4 columns</p>\n",
       "</div>"
      ],
      "text/plain": [
       "       topic     sub_topic                                           contents  \\\n",
       "0         곤충          소금쟁이  몸 길이는 11 16mm이며 몸은 흑갈색 또는 검은색 바탕에 갈색 무늬를 띠고 은빛...   \n",
       "1         곤충           물방개  몸 길이는 34 42mm이며 몸은 약한 녹색 광택을 띠는 흑색인데 몸의 가장자리는 ...   \n",
       "2         곤충          쌀바구미   몸 길이는 3 4mm이고 흑갈색으로서 앞가슴의 등면과 앞날개 위에 원형의 작은 점...   \n",
       "3         곤충          동애등에  몸 길이는 13 20mm이며 전체적인 색상은 흑색이다. 얼굴은 흑갈색으로 길이가 매...   \n",
       "4         곤충           거저리   몸 길이는 13 17mm이며 몸은 흑갈색이고 광택이 있으며 길쭉한 모양이다. 앞가...   \n",
       "...      ...           ...                                                ...   \n",
       "3843  기업_브랜드  패러마운트커뮤니케이션스                 1994년 미디어그룹 비아콤에 합병된 미디어 커뮤니케이션회사    \n",
       "3844  기업_브랜드     대조선저마제사회사              삼과 모시를 합사하여 외국에 수출하기 위해 1897년 설립된 회사    \n",
       "3845  기업_브랜드           삼정사                      조선 왕실이 1899년 세운 최초의 인삼전매회사다.    \n",
       "3846  기업_브랜드          핀시데르        자동차산업에 필요한 평면철강제품을 생산하는 데 주력해온 이탈리아의 대형 회사    \n",
       "3847  기업_브랜드         이탈시데르            1933년 이탈리아 파시스트 정부가 세운 산업재건공사 산하의 철강회사    \n",
       "\n",
       "     label  \n",
       "0        0  \n",
       "1        0  \n",
       "2        0  \n",
       "3        0  \n",
       "4        0  \n",
       "...    ...  \n",
       "3843    90  \n",
       "3844    90  \n",
       "3845    90  \n",
       "3846    90  \n",
       "3847    90  \n",
       "\n",
       "[386367 rows x 4 columns]"
      ]
     },
     "execution_count": 7,
     "metadata": {},
     "output_type": "execute_result"
    }
   ],
   "source": [
    "df = pd.DataFrame(columns=['topic', 'sub_topic', 'contents', 'label'])\n",
    "\n",
    "idx = 0\n",
    "topic_index = dict()\n",
    "for name in names:\n",
    "    temp_df = pd.read_csv(path+\"/\"+name+'.csv', encoding= 'cp949', names=['url', 'sub_topic', 'contents'])\n",
    "    len_ = len(temp_df)\n",
    "    temp_df['topic'] = [name]*len_\n",
    "    temp_df['label'] = [idx]*len_\n",
    "    temp_df = temp_df.loc[:, ['topic', 'sub_topic', 'contents','label']]\n",
    "    df = pd.concat([df, temp_df])\n",
    "    topic_index[name] = idx\n",
    "    idx += 1\n",
    "    del temp_df\n",
    "df"
   ]
  },
  {
   "cell_type": "code",
   "execution_count": 8,
   "metadata": {
    "colab": {
     "base_uri": "https://localhost:8080/",
     "height": 289
    },
    "id": "McUSGEVvaZx0",
    "outputId": "897719c6-ba88-415e-c04c-91b82c97fd23"
   },
   "outputs": [
    {
     "data": {
      "text/html": [
       "<div>\n",
       "<style scoped>\n",
       "    .dataframe tbody tr th:only-of-type {\n",
       "        vertical-align: middle;\n",
       "    }\n",
       "\n",
       "    .dataframe tbody tr th {\n",
       "        vertical-align: top;\n",
       "    }\n",
       "\n",
       "    .dataframe thead th {\n",
       "        text-align: right;\n",
       "    }\n",
       "</style>\n",
       "<table border=\"1\" class=\"dataframe\">\n",
       "  <thead>\n",
       "    <tr style=\"text-align: right;\">\n",
       "      <th></th>\n",
       "      <th>topic</th>\n",
       "      <th>sub_topic</th>\n",
       "      <th>contents</th>\n",
       "      <th>label</th>\n",
       "    </tr>\n",
       "  </thead>\n",
       "  <tbody>\n",
       "    <tr>\n",
       "      <th>0</th>\n",
       "      <td>세계음식</td>\n",
       "      <td>멜튼모우브레이포크파이</td>\n",
       "      <td>최초로 출간된 포크 파이 레시피는 14세기 잉글랜드의 궁정 요리책에 나타난다. 익반...</td>\n",
       "      <td>56</td>\n",
       "    </tr>\n",
       "    <tr>\n",
       "      <th>1</th>\n",
       "      <td>의학</td>\n",
       "      <td>손톱</td>\n",
       "      <td>손톱을 볼 때 체크할 필요성이 있는 소견은 곤봉손가락 clubbed finger 같...</td>\n",
       "      <td>60</td>\n",
       "    </tr>\n",
       "    <tr>\n",
       "      <th>2</th>\n",
       "      <td>생명과학</td>\n",
       "      <td>아미노아실전달효소</td>\n",
       "      <td>EC 2.3.2군에 속하는 효소로 아미노아실기를 전달해서 에스테르 또는 아미드를 형...</td>\n",
       "      <td>38</td>\n",
       "    </tr>\n",
       "    <tr>\n",
       "      <th>3</th>\n",
       "      <td>의학</td>\n",
       "      <td>말초순환부전</td>\n",
       "      <td>말초혈관이 확장해서 혈액 정체가 일어나거나 체액 혈장 전혈이 급격하게 없어져 혈액량...</td>\n",
       "      <td>60</td>\n",
       "    </tr>\n",
       "    <tr>\n",
       "      <th>4</th>\n",
       "      <td>북아메리카</td>\n",
       "      <td>뉴프랑스와캐나다식민지시대15341763</td>\n",
       "      <td>Cartier의 첫 번째 항해로 1534년 신대륙에 대한 프랑스의 관심은 향신료의 ...</td>\n",
       "      <td>19</td>\n",
       "    </tr>\n",
       "  </tbody>\n",
       "</table>\n",
       "</div>"
      ],
      "text/plain": [
       "   topic              sub_topic  \\\n",
       "0   세계음식            멜튼모우브레이포크파이   \n",
       "1     의학                     손톱   \n",
       "2   생명과학              아미노아실전달효소   \n",
       "3     의학                 말초순환부전   \n",
       "4  북아메리카  뉴프랑스와캐나다식민지시대15341763   \n",
       "\n",
       "                                            contents label  \n",
       "0  최초로 출간된 포크 파이 레시피는 14세기 잉글랜드의 궁정 요리책에 나타난다. 익반...    56  \n",
       "1  손톱을 볼 때 체크할 필요성이 있는 소견은 곤봉손가락 clubbed finger 같...    60  \n",
       "2  EC 2.3.2군에 속하는 효소로 아미노아실기를 전달해서 에스테르 또는 아미드를 형...    38  \n",
       "3  말초혈관이 확장해서 혈액 정체가 일어나거나 체액 혈장 전혈이 급격하게 없어져 혈액량...    60  \n",
       "4  Cartier의 첫 번째 항해로 1534년 신대륙에 대한 프랑스의 관심은 향신료의 ...    19  "
      ]
     },
     "execution_count": 8,
     "metadata": {},
     "output_type": "execute_result"
    }
   ],
   "source": [
    "# 데이터 섞기\r\n",
    "df_shuffled=df.sample(frac=1).reset_index(drop=True)\r\n",
    "df_shuffled.head()"
   ]
  },
  {
   "cell_type": "code",
   "execution_count": 9,
   "metadata": {
    "colab": {
     "base_uri": "https://localhost:8080/"
    },
    "id": "PMRlV2f5aaoN",
    "outputId": "9b40fd03-9a0b-4a9d-d931-ac0bc3f5a796"
   },
   "outputs": [
    {
     "data": {
      "text/plain": [
       "386367"
      ]
     },
     "execution_count": 9,
     "metadata": {},
     "output_type": "execute_result"
    }
   ],
   "source": [
    "# 데이터 셋 크기\r\n",
    "len(df)"
   ]
  },
  {
   "cell_type": "markdown",
   "metadata": {
    "id": "EHOPblYLap2_"
   },
   "source": [
    "#### Data preprocessing"
   ]
  },
  {
   "cell_type": "code",
   "execution_count": 10,
   "metadata": {
    "id": "lTq9DXn5apC1"
   },
   "outputs": [],
   "source": [
    "# 데이터 셋을 input, output구별\r\n",
    "X = df_shuffled.loc[:, 'contents'].values\r\n",
    "Y = df_shuffled.loc[:, 'label'].values"
   ]
  },
  {
   "cell_type": "code",
   "execution_count": 11,
   "metadata": {
    "colab": {
     "base_uri": "https://localhost:8080/"
    },
    "id": "4LB5FDQNb07B",
    "outputId": "b687282f-451a-4445-cd82-f794933fc178"
   },
   "outputs": [
    {
     "data": {
      "text/plain": [
       "{'곤충': 0,\n",
       " '행정_기관_단체': 1,\n",
       " '한국_철학_윤리': 2,\n",
       " '기타종교': 3,\n",
       " '커피_차': 4,\n",
       " '클래식': 5,\n",
       " '영화': 6,\n",
       " '군사': 7,\n",
       " '부동산': 8,\n",
       " '게임': 9,\n",
       " '만화': 10,\n",
       " '사회복지': 11,\n",
       " '음악용어': 12,\n",
       " '직업': 13,\n",
       " '아프리카': 14,\n",
       " '독일문학': 15,\n",
       " '무역': 16,\n",
       " '건축물': 17,\n",
       " '육아': 18,\n",
       " '북아메리카': 19,\n",
       " '건설_토목': 20,\n",
       " '농학': 21,\n",
       " '프랑스문학': 22,\n",
       " '영미문학': 23,\n",
       " '중동_역사_문화': 24,\n",
       " '한국_민속': 25,\n",
       " '무기': 26,\n",
       " '속담': 27,\n",
       " '기계_자동차_금속': 28,\n",
       " '국제기구': 29,\n",
       " '외교': 30,\n",
       " '이슬람교': 31,\n",
       " '패션': 32,\n",
       " '경제': 33,\n",
       " '댄스_무용': 34,\n",
       " '동물': 35,\n",
       " '주류': 36,\n",
       " '한국_역사_문화': 37,\n",
       " '생명과학': 38,\n",
       " '호텔': 39,\n",
       " '법': 40,\n",
       " '북한문학': 41,\n",
       " '아시아': 42,\n",
       " '남아메리카': 43,\n",
       " '헤어': 44,\n",
       " '서양_철학_윤리': 45,\n",
       " '불교': 46,\n",
       " '정치': 47,\n",
       " '재료': 48,\n",
       " '교양영어사전': 49,\n",
       " '명화': 50,\n",
       " '심리': 51,\n",
       " '화학': 52,\n",
       " '수학': 53,\n",
       " '물리학': 54,\n",
       " '세계_역사_문화': 55,\n",
       " '세계음식': 56,\n",
       " '중국문학': 57,\n",
       " '미술': 58,\n",
       " '한국음식': 59,\n",
       " '의학': 60,\n",
       " '환경': 61,\n",
       " '색채': 62,\n",
       " '드라마': 63,\n",
       " '한국문학': 64,\n",
       " '아시아_역사_문화': 65,\n",
       " '교양_인문': 66,\n",
       " '질병': 67,\n",
       " '천문학': 68,\n",
       " '뮤지컬': 69,\n",
       " '식물': 70,\n",
       " '인테리어': 71,\n",
       " '오세아니아': 72,\n",
       " '전시관': 73,\n",
       " '악기': 74,\n",
       " '일본문학': 75,\n",
       " '약학': 76,\n",
       " 'IT': 77,\n",
       " '동양_철학_윤리': 78,\n",
       " '회계_세무': 79,\n",
       " '지구과학': 80,\n",
       " '음악사': 81,\n",
       " '공예': 82,\n",
       " '유럽': 83,\n",
       " '세계문학': 84,\n",
       " '한국': 85,\n",
       " '유럽_역사_문화': 86,\n",
       " '바둑': 87,\n",
       " '기독교': 88,\n",
       " '중동': 89,\n",
       " '기업_브랜드': 90}"
      ]
     },
     "execution_count": 11,
     "metadata": {},
     "output_type": "execute_result"
    }
   ],
   "source": [
    "topic_index"
   ]
  },
  {
   "cell_type": "code",
   "execution_count": 12,
   "metadata": {
    "colab": {
     "base_uri": "https://localhost:8080/"
    },
    "id": "EGbnsLB5a5YK",
    "outputId": "295d46f1-ec8b-4192-adb8-25c77d313386"
   },
   "outputs": [
    {
     "name": "stdout",
     "output_type": "stream",
     "text": [
      "각 레이블에 대한 빈도수:\n",
      "[[0 1 2 3 4 5 6 7 8 9 10 11 12 13 14 15 16 17 18 19 20 21 22 23 24 25 26\n",
      "  27 28 29 30 31 32 33 34 35 36 37 38 39 40 41 42 43 44 45 46 47 48 49 50\n",
      "  51 52 53 54 55 56 57 58 59 60 61 62 63 64 65 66 67 68 69 70 71 72 73 74\n",
      "  75 76 77 78 79 80 81 82 83 84 85 86 87 88 89 90]\n",
      " [1522 1525 1006 4545 2837 1001 1499 6516 2721 661 4854 4665 5588 8052\n",
      "  1346 942 1893 2826 392 1520 10005 9095 1009 637 2527 6098 5444 282 7652\n",
      "  357 1278 75 9447 3118 3275 389 9737 9786 9396 1706 3858 488 9963 2576\n",
      "  341 9960 9294 4504 1072 1003 9690 9628 9875 2073 2449 7559 6413 9050\n",
      "  6403 6681 9406 3268 1417 594 9442 2439 3564 4622 502 318 5834 1711 369\n",
      "  2588 1375 1045 10005 7398 3811 1542 4418 1265 949 9922 7276 9991 4231\n",
      "  2104 9530 1479 3848]]\n"
     ]
    }
   ],
   "source": [
    "unique_elements, counts_elements = np.unique(Y, return_counts=True)\r\n",
    "print(\"각 레이블에 대한 빈도수:\")\r\n",
    "print(np.asarray((unique_elements, counts_elements)))"
   ]
  },
  {
   "cell_type": "code",
   "execution_count": 13,
   "metadata": {
    "colab": {
     "base_uri": "https://localhost:8080/",
     "height": 283
    },
    "id": "B0nAhkqRcbRR",
    "outputId": "68ab3568-66c9-4a98-bb5b-735686a18878"
   },
   "outputs": [
    {
     "data": {
      "text/plain": [
       "<BarContainer object of 91 artists>"
      ]
     },
     "execution_count": 13,
     "metadata": {},
     "output_type": "execute_result"
    },
    {
     "data": {
      "image/png": "[encoded data removed]",
      "text/plain": [
       "<Figure size 432x288 with 1 Axes>"
      ]
     },
     "metadata": {
      "needs_background": "light"
     },
     "output_type": "display_data"
    }
   ],
   "source": [
    "plt.bar(unique_elements, counts_elements, width=0.3, align='edge', color=\"blue\",\r\n",
    "        edgecolor=\"gray\", linewidth=3, tick_label=unique_elements, log=True)"
   ]
  },
  {
   "cell_type": "code",
   "execution_count": 14,
   "metadata": {
    "colab": {
     "base_uri": "https://localhost:8080/"
    },
    "id": "n1-8iAvQcegf",
    "outputId": "52977b8c-85ce-44cd-f025-4d669257f991"
   },
   "outputs": [
    {
     "name": "stdout",
     "output_type": "stream",
     "text": [
      "386367\n",
      "386367\n"
     ]
    }
   ],
   "source": [
    "print(len(X))\r\n",
    "print(len(Y))"
   ]
  },
  {
   "cell_type": "code",
   "execution_count": 15,
   "metadata": {
    "id": "K4GHxhnlcozE"
   },
   "outputs": [],
   "source": [
    "# stop word 불러오기\r\n",
    "path ='./korean_stopwords.txt'\r\n",
    "f = open(path, 'r', encoding='utf-8')\r\n",
    "stop_words = []\r\n",
    "while True:\r\n",
    "    line = f.readline()\r\n",
    "    if not line: break\r\n",
    "    stop_words.append(line.split()[0])\r\n",
    "f.close()"
   ]
  },
  {
   "cell_type": "code",
   "execution_count": 16,
   "metadata": {
    "colab": {
     "base_uri": "https://localhost:8080/"
    },
    "id": "aP0J1D2jczzA",
    "outputId": "0eaddc7c-7f9a-46e0-9e79-8a9d9bc561b5"
   },
   "outputs": [
    {
     "data": {
      "text/plain": [
       "['이', '있', '하', '것', '들']"
      ]
     },
     "execution_count": 16,
     "metadata": {},
     "output_type": "execute_result"
    }
   ],
   "source": [
    "stop_words[:5]"
   ]
  },
  {
   "cell_type": "code",
   "execution_count": 17,
   "metadata": {
    "id": "PnieISFRc00x"
   },
   "outputs": [],
   "source": [
    "new_X = []\r\n",
    "delete_Y_idxs = []\r\n",
    "for idx in range(len(X)):\r\n",
    "  # 1. 토큰화\r\n",
    "  temp = mecab.morphs(X[idx])\r\n",
    "  # 2. 불용어 제거\r\n",
    "  temp = [i for i in temp if i not in stop_words and i != '.']\r\n",
    "  if temp:\r\n",
    "      new_X.append(temp)\r\n",
    "  else:\r\n",
    "    delete_Y_idxs.append(idx)\r\n"
   ]
  },
  {
   "cell_type": "code",
   "execution_count": 18,
   "metadata": {
    "colab": {
     "base_uri": "https://localhost:8080/"
    },
    "id": "FDBDQnKrdXt8",
    "outputId": "c50b7087-2cc0-478e-e936-fe711b0fa463"
   },
   "outputs": [
    {
     "name": "stdout",
     "output_type": "stream",
     "text": [
      "385030\n",
      "386367\n",
      "1337\n"
     ]
    }
   ],
   "source": [
    "print(len(new_X))\r\n",
    "print(len(X))\r\n",
    "print(len(delete_Y_idxs))\r\n"
   ]
  },
  {
   "cell_type": "code",
   "execution_count": 19,
   "metadata": {
    "colab": {
     "base_uri": "https://localhost:8080/"
    },
    "id": "xioubRrgfA5B",
    "outputId": "3c397410-160b-4cee-c808-3d95f66963d6"
   },
   "outputs": [
    {
     "name": "stdout",
     "output_type": "stream",
     "text": [
      "385030\n",
      "386367\n",
      "385030\n",
      "386367\n"
     ]
    }
   ],
   "source": [
    "# 필요없는 부분 제거\r\n",
    "new_Y = np.delete(Y, delete_Y_idxs)\r\n",
    "print(len(new_X))\r\n",
    "print(len(X))\r\n",
    "print(len(new_Y))\r\n",
    "print(len(Y))"
   ]
  },
  {
   "cell_type": "code",
   "execution_count": 20,
   "metadata": {
    "colab": {
     "base_uri": "https://localhost:8080/"
    },
    "id": "6mIhj4ZFgL_D",
    "outputId": "f653f501-7c54-46ad-8e4b-201468fc1a5e"
   },
   "outputs": [
    {
     "data": {
      "text/plain": [
       "['Cartier',\n",
       " '의',\n",
       " '첫',\n",
       " '째',\n",
       " '항해',\n",
       " '로',\n",
       " '1534',\n",
       " '신대륙',\n",
       " '에',\n",
       " '대한',\n",
       " '프랑스',\n",
       " '의',\n",
       " '관심',\n",
       " '은',\n",
       " '향신료',\n",
       " '의',\n",
       " '땅',\n",
       " '아시아',\n",
       " '로',\n",
       " '는',\n",
       " '서쪽',\n",
       " '항로',\n",
       " '를',\n",
       " '찾',\n",
       " '고자',\n",
       " '했',\n",
       " '던',\n",
       " '프랑수아',\n",
       " '1',\n",
       " '세',\n",
       " '부터',\n",
       " '시작',\n",
       " '1534',\n",
       " '프랑수아',\n",
       " '1',\n",
       " '세',\n",
       " '의',\n",
       " '지시',\n",
       " '를',\n",
       " '은',\n",
       " 'Jacques',\n",
       " 'Cartier',\n",
       " '는',\n",
       " '뉴펀들랜드',\n",
       " '지역',\n",
       " '과',\n",
       " 'St',\n",
       " 'Lawrence',\n",
       " '만',\n",
       " '지역',\n",
       " '을',\n",
       " '항해',\n",
       " 'Gaspe',\n",
       " 'Bay',\n",
       " '퀘',\n",
       " '백',\n",
       " '지역',\n",
       " '에',\n",
       " '도착',\n",
       " 'Long',\n",
       " 'Live',\n",
       " 'the',\n",
       " 'King',\n",
       " 'of',\n",
       " 'France',\n",
       " '라고',\n",
       " '적힌',\n",
       " '십자가',\n",
       " '를',\n",
       " '설치',\n",
       " '여',\n",
       " '프랑스',\n",
       " '영토',\n",
       " '임',\n",
       " '을',\n",
       " '주장']"
      ]
     },
     "execution_count": 20,
     "metadata": {},
     "output_type": "execute_result"
    }
   ],
   "source": [
    "new_X[4]"
   ]
  },
  {
   "cell_type": "code",
   "execution_count": 21,
   "metadata": {
    "colab": {
     "base_uri": "https://localhost:8080/"
    },
    "id": "XGS01DnTgTic",
    "outputId": "853bbab2-6596-4dfa-e47f-0521726cf2cf"
   },
   "outputs": [
    {
     "name": "stdout",
     "output_type": "stream",
     "text": [
      "418294\n"
     ]
    }
   ],
   "source": [
    "# X 정수 encoding하기\r\n",
    "max_word =250000\r\n",
    "max_len = 1000 #max_len = 500\r\n",
    "\r\n",
    "tok = Tokenizer(num_words = max_word)\r\n",
    "tok.fit_on_texts(new_X)\r\n",
    "sequences = tok.texts_to_sequences(new_X)\r\n",
    "print(len(tok.word_index))"
   ]
  },
  {
   "cell_type": "markdown",
   "metadata": {
    "id": "CVus9ZXxh_uJ"
   },
   "source": [
    "각 기사의 단어 수가 제각각 다르므로 이를 동일하게 맞춰야 한다.\r\n",
    "이때는 다음과 같이 데이터 전처리 함수 sequence()를 이용한다."
   ]
  },
  {
   "cell_type": "code",
   "execution_count": 22,
   "metadata": {
    "colab": {
     "base_uri": "https://localhost:8080/"
    },
    "id": "RAsbop41h-6e",
    "outputId": "c7722d3a-4f29-4c55-b662-ffaa8e179f15"
   },
   "outputs": [
    {
     "name": "stdout",
     "output_type": "stream",
     "text": [
      "[[    0     0     0 ...   834  7754     5]\n",
      " [    0     0     0 ...     1  1973   472]\n",
      " [    0     0     0 ...     7  1469    20]\n",
      " ...\n",
      " [    0     0     0 ...    51   255  2525]\n",
      " [    0     0     0 ...   126    26 32587]\n",
      " [    0     0     0 ...   432     8     5]]\n",
      "1000\n"
     ]
    }
   ],
   "source": [
    "sequences_matrix  = sequence.pad_sequences(sequences, maxlen=max_len)\r\n",
    "print(sequences_matrix)\r\n",
    "print(len(sequences_matrix[0]))"
   ]
  },
  {
   "cell_type": "code",
   "execution_count": 23,
   "metadata": {
    "colab": {
     "base_uri": "https://localhost:8080/"
    },
    "id": "0lo85hEhiYCw",
    "outputId": "080c2fa3-ff63-438f-962f-52f8f23d3ef1"
   },
   "outputs": [
    {
     "data": {
      "text/plain": [
       "numpy.ndarray"
      ]
     },
     "execution_count": 23,
     "metadata": {},
     "output_type": "execute_result"
    }
   ],
   "source": [
    "type(sequences_matrix)"
   ]
  },
  {
   "cell_type": "code",
   "execution_count": 24,
   "metadata": {
    "colab": {
     "base_uri": "https://localhost:8080/"
    },
    "id": "Dw6rNml0iZtc",
    "outputId": "b3216fce-500a-4901-de3e-ed26b3b502be"
   },
   "outputs": [
    {
     "data": {
      "text/plain": [
       "numpy.ndarray"
      ]
     },
     "execution_count": 24,
     "metadata": {},
     "output_type": "execute_result"
    }
   ],
   "source": [
    "type(new_Y)"
   ]
  },
  {
   "cell_type": "code",
   "execution_count": 25,
   "metadata": {
    "colab": {
     "base_uri": "https://localhost:8080/"
    },
    "id": "BUjXkm31id1q",
    "outputId": "712760da-2df1-46dc-92f4-cac021c9f666"
   },
   "outputs": [
    {
     "name": "stdout",
     "output_type": "stream",
     "text": [
      "385030\n"
     ]
    }
   ],
   "source": [
    "print(len(sequences_matrix))"
   ]
  },
  {
   "cell_type": "code",
   "execution_count": 26,
   "metadata": {
    "colab": {
     "base_uri": "https://localhost:8080/"
    },
    "id": "owoJ90u9iwjN",
    "outputId": "3e1110c8-9f6c-4c8a-9eb9-574a0f2d9d8d"
   },
   "outputs": [
    {
     "name": "stdout",
     "output_type": "stream",
     "text": [
      "91\n"
     ]
    }
   ],
   "source": [
    "# new_Y 데이터에 원-핫 인코딩 처리를 하여 데이터 전처리 과정을 마친다.\r\n",
    "nb_classes = len(set(new_Y))\r\n",
    "print(nb_classes)\r\n",
    "y = np_utils.to_categorical(new_Y, nb_classes)\r\n"
   ]
  },
  {
   "cell_type": "code",
   "execution_count": 27,
   "metadata": {
    "colab": {
     "base_uri": "https://localhost:8080/"
    },
    "id": "0TjEgPJpjM8H",
    "outputId": "55300c46-7b9d-4376-b20c-c1852fd1e7d6"
   },
   "outputs": [
    {
     "name": "stdout",
     "output_type": "stream",
     "text": [
      "[0. 0. 0. 0. 0. 0. 0. 0. 0. 0. 0. 0. 0. 1. 0. 0. 0. 0. 0. 0. 0. 0. 0. 0.\n",
      " 0. 0. 0. 0. 0. 0. 0. 0. 0. 0. 0. 0. 0. 0. 0. 0. 0. 0. 0. 0. 0. 0. 0. 0.\n",
      " 0. 0. 0. 0. 0. 0. 0. 0. 0. 0. 0. 0. 0. 0. 0. 0. 0. 0. 0. 0. 0. 0. 0. 0.\n",
      " 0. 0. 0. 0. 0. 0. 0. 0. 0. 0. 0. 0. 0. 0. 0. 0. 0. 0. 0.]\n"
     ]
    }
   ],
   "source": [
    "print(y[100])"
   ]
  },
  {
   "cell_type": "code",
   "execution_count": 28,
   "metadata": {
    "id": "ocVaekPTiTr2"
   },
   "outputs": [],
   "source": [
    "X_train, X_test, y_train, y_test = train_test_split(sequences_matrix, y, test_size=0.2)"
   ]
  },
  {
   "cell_type": "code",
   "execution_count": 29,
   "metadata": {
    "colab": {
     "base_uri": "https://localhost:8080/"
    },
    "id": "6Lwck9KyimpH",
    "outputId": "2f709d99-44d6-4482-91f2-7a4952558e0c"
   },
   "outputs": [
    {
     "name": "stdout",
     "output_type": "stream",
     "text": [
      "(308024, 1000)\n",
      "(308024, 91)\n"
     ]
    }
   ],
   "source": [
    "print(X_train.shape)\r\n",
    "print(y_train.shape)"
   ]
  },
  {
   "cell_type": "code",
   "execution_count": 30,
   "metadata": {
    "colab": {
     "base_uri": "https://localhost:8080/"
    },
    "id": "WQbAN_hdji9D",
    "outputId": "76256830-94db-4a46-a4d3-5e0141653aaa"
   },
   "outputs": [
    {
     "name": "stdout",
     "output_type": "stream",
     "text": [
      "(77006, 1000)\n",
      "(77006, 91)\n"
     ]
    }
   ],
   "source": [
    "print(X_test.shape)\r\n",
    "print(y_test.shape)"
   ]
  },
  {
   "cell_type": "markdown",
   "metadata": {
    "id": "3BQENxVDjYbU"
   },
   "source": [
    "##### training set X : 308024, 1000\r\n",
    "##### training set Y : 308024, 91\r\n",
    "\r\n",
    "##### training set X : 77006, 1000\r\n",
    "##### training set Y : 77006, 91"
   ]
  },
  {
   "cell_type": "code",
   "execution_count": 32,
   "metadata": {},
   "outputs": [],
   "source": [
    "import pickle\n",
    "\n",
    "# saving\n",
    "with open('tokenizer.pickle', 'wb') as handle:\n",
    "    pickle.dump(tok, handle, protocol=pickle.HIGHEST_PROTOCOL)"
   ]
  },
  {
   "cell_type": "code",
   "execution_count": 39,
   "metadata": {},
   "outputs": [
    {
     "name": "stdout",
     "output_type": "stream",
     "text": [
      "{'곤충': 0, '행정_기관_단체': 1, '한국_철학_윤리': 2, '기타종교': 3, '커피_차': 4, '클래식': 5, '영화': 6, '군사': 7, '부동산': 8, '게임': 9, '만화': 10, '사회복지': 11, '음악용어': 12, '직업': 13, '아프리카': 14, '독일문학': 15, '무역': 16, '건축물': 17, '육아': 18, '북아메리카': 19, '건설_토목': 20, '농학': 21, '프랑스문학': 22, '영미문학': 23, '중동_역사_문화': 24, '한국_민속': 25, '무기': 26, '속담': 27, '기계_자동차_금속': 28, '국제기구': 29, '외교': 30, '이슬람교': 31, '패션': 32, '경제': 33, '댄스_무용': 34, '동물': 35, '주류': 36, '한국_역사_문화': 37, '생명과학': 38, '호텔': 39, '법': 40, '북한문학': 41, '아시아': 42, '남아메리카': 43, '헤어': 44, '서양_철학_윤리': 45, '불교': 46, '정치': 47, '재료': 48, '교양영어사전': 49, '명화': 50, '심리': 51, '화학': 52, '수학': 53, '물리학': 54, '세계_역사_문화': 55, '세계음식': 56, '중국문학': 57, '미술': 58, '한국음식': 59, '의학': 60, '환경': 61, '색채': 62, '드라마': 63, '한국문학': 64, '아시아_역사_문화': 65, '교양_인문': 66, '질병': 67, '천문학': 68, '뮤지컬': 69, '식물': 70, '인테리어': 71, '오세아니아': 72, '전시관': 73, '악기': 74, '일본문학': 75, '약학': 76, 'IT': 77, '동양_철학_윤리': 78, '회계_세무': 79, '지구과학': 80, '음악사': 81, '공예': 82, '유럽': 83, '세계문학': 84, '한국': 85, '유럽_역사_문화': 86, '바둑': 87, '기독교': 88, '중동': 89, '기업_브랜드': 90}\n"
     ]
    }
   ],
   "source": [
    "import json\n",
    "print(topic_index)\n",
    "json_object = json.dumps(topic_index, indent = 4)\n",
    "with open('token2.json', 'w', encoding='utf-8') as f:\n",
    "    f.write(json.dumps(json_object, ensure_ascii=False))"
   ]
  },
  {
   "cell_type": "markdown",
   "metadata": {
    "id": "bwdFovscjuRK"
   },
   "source": [
    "### Model 설계 및 훈련"
   ]
  },
  {
   "cell_type": "code",
   "execution_count": 40,
   "metadata": {
    "id": "vkbwYevSjp_S"
   },
   "outputs": [
    {
     "name": "stdout",
     "output_type": "stream",
     "text": [
      "WARNING:tensorflow:From /home/sejin/.local/lib/python3.6/site-packages/tensorflow_core/python/ops/resource_variable_ops.py:1630: calling BaseResourceVariable.__init__ (from tensorflow.python.ops.resource_variable_ops) with constraint is deprecated and will be removed in a future version.\n",
      "Instructions for updating:\n",
      "If using Keras pass *_constraint arguments to layers.\n"
     ]
    }
   ],
   "source": [
    "model = Sequential()\r\n",
    "\r\n",
    "model.add(Embedding(max_word, 64, input_length=max_len))\r\n",
    "model.add(LSTM(60, return_sequences=True))\r\n",
    "model.add(GlobalMaxPool1D())\r\n",
    "model.add(Dropout(0.2))\r\n",
    "model.add(Dense(50, activation='relu'))\r\n",
    "model.add(Dropout(0.5))\r\n",
    "model.add(Dense(nb_classes, activation='softmax'))\r\n",
    "model.compile(loss='categorical_crossentropy', optimizer='adam', metrics=['accuracy'])\r\n"
   ]
  },
  {
   "cell_type": "code",
   "execution_count": 41,
   "metadata": {
    "id": "JsfmEVuNj7eF"
   },
   "outputs": [],
   "source": [
    "model_dir = './model'\r\n",
    "if not os.path.exists(model_dir):\r\n",
    "    os.mkdir(model_dir)\r\n",
    "model_path = model_dir + \"/Naver_dict_l2stm.h5\""
   ]
  },
  {
   "cell_type": "code",
   "execution_count": 42,
   "metadata": {
    "colab": {
     "base_uri": "https://localhost:8080/",
     "height": 35
    },
    "id": "P2ARabV8kWkH",
    "outputId": "0cf612a6-60a0-4f92-f449-228882f1523f"
   },
   "outputs": [
    {
     "data": {
      "text/plain": [
       "'./model/Naver_dict_l2stm.h5'"
      ]
     },
     "execution_count": 42,
     "metadata": {},
     "output_type": "execute_result"
    }
   ],
   "source": [
    "model_path"
   ]
  },
  {
   "cell_type": "code",
   "execution_count": 43,
   "metadata": {},
   "outputs": [],
   "source": [
    "es = EarlyStopping(monitor='val_loss', mode='min', verbose=1, patience=5)\n",
    "mc = ModelCheckpoint(filepath=model_path, monitor='val_accuracy', mode='max', verbose=1, save_best_only=True)"
   ]
  },
  {
   "cell_type": "code",
   "execution_count": 44,
   "metadata": {
    "colab": {
     "base_uri": "https://localhost:8080/"
    },
    "id": "LdGzK---klzg",
    "outputId": "e3bddcd9-89ae-4721-c581-9b06f41f7f9b"
   },
   "outputs": [
    {
     "name": "stdout",
     "output_type": "stream",
     "text": [
      "Model: \"sequential_1\"\n",
      "_________________________________________________________________\n",
      "Layer (type)                 Output Shape              Param #   \n",
      "=================================================================\n",
      "embedding_1 (Embedding)      (None, 1000, 64)          16000000  \n",
      "_________________________________________________________________\n",
      "lstm_1 (LSTM)                (None, 1000, 60)          30000     \n",
      "_________________________________________________________________\n",
      "global_max_pooling1d_1 (Glob (None, 60)                0         \n",
      "_________________________________________________________________\n",
      "dropout_1 (Dropout)          (None, 60)                0         \n",
      "_________________________________________________________________\n",
      "dense_1 (Dense)              (None, 50)                3050      \n",
      "_________________________________________________________________\n",
      "dropout_2 (Dropout)          (None, 50)                0         \n",
      "_________________________________________________________________\n",
      "dense_2 (Dense)              (None, 91)                4641      \n",
      "=================================================================\n",
      "Total params: 16,037,691\n",
      "Trainable params: 16,037,691\n",
      "Non-trainable params: 0\n",
      "_________________________________________________________________\n"
     ]
    }
   ],
   "source": [
    "model.summary()"
   ]
  },
  {
   "cell_type": "code",
   "execution_count": 45,
   "metadata": {
    "colab": {
     "base_uri": "https://localhost:8080/"
    },
    "id": "ftEkQCqGkt5V",
    "outputId": "217222e8-4e1d-4b22-f679-e3a9213a2b2b"
   },
   "outputs": [
    {
     "name": "stdout",
     "output_type": "stream",
     "text": [
      "WARNING:tensorflow:From /home/sejin/.local/lib/python3.6/site-packages/keras/backend/tensorflow_backend.py:422: The name tf.global_variables is deprecated. Please use tf.compat.v1.global_variables instead.\n",
      "\n",
      "Train on 246419 samples, validate on 61605 samples\n",
      "Epoch 1/50\n",
      "246419/246419 [==============================] - 803s 3ms/step - loss: 3.0855 - accuracy: 0.2354 - val_loss: 1.8672 - val_accuracy: 0.5197\n",
      "\n",
      "Epoch 00001: val_accuracy improved from -inf to 0.51970, saving model to ./model/Naver_dict_l2stm.h5\n",
      "Epoch 2/50\n",
      "246419/246419 [==============================] - 797s 3ms/step - loss: 1.8457 - accuracy: 0.5067 - val_loss: 1.3950 - val_accuracy: 0.6325\n",
      "\n",
      "Epoch 00002: val_accuracy improved from 0.51970 to 0.63246, saving model to ./model/Naver_dict_l2stm.h5\n",
      "Epoch 3/50\n",
      "246419/246419 [==============================] - 797s 3ms/step - loss: 1.4281 - accuracy: 0.6096 - val_loss: 1.4578 - val_accuracy: 0.6189\n",
      "\n",
      "Epoch 00003: val_accuracy did not improve from 0.63246\n",
      "Epoch 4/50\n",
      "246419/246419 [==============================] - 796s 3ms/step - loss: 1.2010 - accuracy: 0.6644 - val_loss: 1.1891 - val_accuracy: 0.6927\n",
      "\n",
      "Epoch 00004: val_accuracy improved from 0.63246 to 0.69267, saving model to ./model/Naver_dict_l2stm.h5\n",
      "Epoch 5/50\n",
      "246419/246419 [==============================] - 793s 3ms/step - loss: 1.0326 - accuracy: 0.7065 - val_loss: 1.1757 - val_accuracy: 0.6998\n",
      "\n",
      "Epoch 00005: val_accuracy improved from 0.69267 to 0.69978, saving model to ./model/Naver_dict_l2stm.h5\n",
      "Epoch 6/50\n",
      "246419/246419 [==============================] - 793s 3ms/step - loss: 0.9117 - accuracy: 0.7372 - val_loss: 1.2255 - val_accuracy: 0.7082\n",
      "\n",
      "Epoch 00006: val_accuracy improved from 0.69978 to 0.70821, saving model to ./model/Naver_dict_l2stm.h5\n",
      "Epoch 7/50\n",
      "246419/246419 [==============================] - 792s 3ms/step - loss: 0.8457 - accuracy: 0.7542 - val_loss: 1.2343 - val_accuracy: 0.7045\n",
      "\n",
      "Epoch 00007: val_accuracy did not improve from 0.70821\n",
      "Epoch 8/50\n",
      "246419/246419 [==============================] - 788s 3ms/step - loss: 0.7559 - accuracy: 0.7784 - val_loss: 1.2922 - val_accuracy: 0.7160\n",
      "\n",
      "Epoch 00008: val_accuracy improved from 0.70821 to 0.71600, saving model to ./model/Naver_dict_l2stm.h5\n",
      "Epoch 9/50\n",
      "246419/246419 [==============================] - 789s 3ms/step - loss: 0.6649 - accuracy: 0.8023 - val_loss: 1.3844 - val_accuracy: 0.7199\n",
      "\n",
      "Epoch 00009: val_accuracy improved from 0.71600 to 0.71994, saving model to ./model/Naver_dict_l2stm.h5\n",
      "Epoch 10/50\n",
      "246419/246419 [==============================] - 788s 3ms/step - loss: 0.6166 - accuracy: 0.8167 - val_loss: 1.4161 - val_accuracy: 0.7233\n",
      "\n",
      "Epoch 00010: val_accuracy improved from 0.71994 to 0.72333, saving model to ./model/Naver_dict_l2stm.h5\n",
      "Epoch 00010: early stopping\n"
     ]
    }
   ],
   "source": [
    "history = model.fit(X_train, y_train, batch_size=256, epochs=50, callbacks=[es, mc], validation_split=0.2)"
   ]
  },
  {
   "cell_type": "code",
   "execution_count": 46,
   "metadata": {
    "id": "YCLyBC2tk-uu"
   },
   "outputs": [
    {
     "name": "stdout",
     "output_type": "stream",
     "text": [
      "77006/77006 [==============================] - 118s 2ms/step\n",
      "정확도 : 0.7280\n"
     ]
    }
   ],
   "source": [
    "print(\"정확도 : %.4f\" % (model.evaluate(X_test, y_test)[1]))"
   ]
  },
  {
   "cell_type": "code",
   "execution_count": 47,
   "metadata": {},
   "outputs": [
    {
     "data": {
      "image/png": "[encoded data removed]",
      "text/plain": [
       "<Figure size 432x288 with 1 Axes>"
      ]
     },
     "metadata": {
      "needs_background": "light"
     },
     "output_type": "display_data"
    }
   ],
   "source": [
    "y_vloss = history.history['val_loss']\n",
    "y_loss = history.history['loss']\n",
    "\n",
    "x_len = np.arange(len(y_loss))\n",
    "\n",
    "plt.plot(x_len, y_vloss, marker='.', c='red', label='val_set_loss')\n",
    "plt.plot(x_len, y_loss, marker='.', c='blue', label='train_set_oss')\n",
    "plt.legend()\n",
    "plt.xlabel('epochs')\n",
    "plt.ylabel('loss')\n",
    "plt.grid()\n",
    "plt.show()"
   ]
  },
  {
   "cell_type": "code",
   "execution_count": 48,
   "metadata": {},
   "outputs": [
    {
     "data": {
      "image/png": "[encoded data removed]",
      "text/plain": [
       "<Figure size 432x288 with 1 Axes>"
      ]
     },
     "metadata": {
      "needs_background": "light"
     },
     "output_type": "display_data"
    }
   ],
   "source": [
    "y_vloss = history.history['val_accuracy']\n",
    "y_loss = history.history['accuracy']\n",
    "\n",
    "x_len = np.arange(len(y_loss))\n",
    "\n",
    "plt.plot(x_len, y_vloss, marker='.', c='red', label='val_set_loss')\n",
    "plt.plot(x_len, y_loss, marker='.', c='blue', label='train_set_oss')\n",
    "plt.legend()\n",
    "plt.xlabel('epochs')\n",
    "plt.ylabel('loss')\n",
    "plt.grid()\n",
    "plt.show()"
   ]
  }
 ],
 "metadata": {
  "accelerator": "GPU",
  "colab": {
   "collapsed_sections": [],
   "name": "LSTM_Model_Train.ipynb",
   "provenance": []
  },
  "kernelspec": {
   "display_name": "Python 3",
   "language": "python",
   "name": "python3"
  },
  "language_info": {
   "codemirror_mode": {
    "name": "ipython",
    "version": 3
   },
   "file_extension": ".py",
   "mimetype": "text/x-python",
   "name": "python",
   "nbconvert_exporter": "python",
   "pygments_lexer": "ipython3",
   "version": "3.7.3"
  }
 },
 "nbformat": 4,
 "nbformat_minor": 4
}
