{
 "cells": [
  {
   "cell_type": "code",
   "execution_count": 1,
   "metadata": {},
   "outputs": [
    {
     "name": "stderr",
     "output_type": "stream",
     "text": [
      "Using TensorFlow backend.\n"
     ]
    },
    {
     "name": "stdout",
     "output_type": "stream",
     "text": [
      "WARNING:tensorflow:From /home/sejin/.local/lib/python3.6/site-packages/tensorflow_core/python/ops/resource_variable_ops.py:1630: calling BaseResourceVariable.__init__ (from tensorflow.python.ops.resource_variable_ops) with constraint is deprecated and will be removed in a future version.\n",
      "Instructions for updating:\n",
      "If using Keras pass *_constraint arguments to layers.\n",
      "WARNING:tensorflow:From /home/sejin/.local/lib/python3.6/site-packages/keras/backend/tensorflow_backend.py:422: The name tf.global_variables is deprecated. Please use tf.compat.v1.global_variables instead.\n",
      "\n"
     ]
    }
   ],
   "source": [
    "from keras.preprocessing import sequence\n",
    "from keras.models import load_model\n",
    "import pickle, json, os\n",
    "model = load_model('./model/Naver_dict_l3stm.h5')\n",
    "with open(\"./tokenizer2.pickle\", 'rb') as fp:\n",
    "    tokenizer = pickle.load(fp)\n",
    "with open(\"./token3.json\", \"r\") as st_json:\n",
    "    topic = json.load(st_json)"
   ]
  },
  {
   "cell_type": "code",
   "execution_count": 2,
   "metadata": {
    "scrolled": true
   },
   "outputs": [
    {
     "data": {
      "text/plain": [
       "{'0': '곤충',\n",
       " '1': '행정_기관_단체',\n",
       " '2': '한국_철학_윤리',\n",
       " '3': '기타종교',\n",
       " '4': '커피_차',\n",
       " '5': '클래식',\n",
       " '6': '영화',\n",
       " '7': '군사',\n",
       " '8': '부동산',\n",
       " '9': '게임',\n",
       " '10': '만화',\n",
       " '11': '사회복지',\n",
       " '12': '음악용어',\n",
       " '13': '직업',\n",
       " '14': '아프리카',\n",
       " '15': '독일문학',\n",
       " '16': '무역',\n",
       " '17': '건축물',\n",
       " '18': '육아',\n",
       " '19': '북아메리카',\n",
       " '20': '건설_토목',\n",
       " '21': '농학',\n",
       " '22': '프랑스문학',\n",
       " '23': '영미문학',\n",
       " '24': '중동_역사_문화',\n",
       " '25': '한국_민속',\n",
       " '26': '무기',\n",
       " '27': '속담',\n",
       " '28': '기계_자동차_금속',\n",
       " '29': '국제기구',\n",
       " '30': '외교',\n",
       " '31': '이슬람교',\n",
       " '32': '패션',\n",
       " '33': '경제',\n",
       " '34': '댄스_무용',\n",
       " '35': '동물',\n",
       " '36': '주류',\n",
       " '37': '한국_역사_문화',\n",
       " '38': '생명과학',\n",
       " '39': '호텔',\n",
       " '40': '법',\n",
       " '41': '북한문학',\n",
       " '42': '아시아',\n",
       " '43': '남아메리카',\n",
       " '44': '헤어',\n",
       " '45': '서양_철학_윤리',\n",
       " '46': '불교',\n",
       " '47': '정치',\n",
       " '48': '재료',\n",
       " '49': '교양영어사전',\n",
       " '50': '명화',\n",
       " '51': '심리',\n",
       " '52': '화학',\n",
       " '53': '수학',\n",
       " '54': '물리학',\n",
       " '55': '세계_역사_문화',\n",
       " '56': '세계음식',\n",
       " '57': '중국문학',\n",
       " '58': '미술',\n",
       " '59': '한국음식',\n",
       " '60': '의학',\n",
       " '61': '환경',\n",
       " '62': '색채',\n",
       " '63': '드라마',\n",
       " '64': '한국문학',\n",
       " '65': '아시아_역사_문화',\n",
       " '66': '교양_인문',\n",
       " '67': '질병',\n",
       " '68': '천문학',\n",
       " '69': '뮤지컬',\n",
       " '70': '식물',\n",
       " '71': '인테리어',\n",
       " '72': '오세아니아',\n",
       " '73': '전시관',\n",
       " '74': '악기',\n",
       " '75': '일본문학',\n",
       " '76': '약학',\n",
       " '77': 'IT',\n",
       " '78': '동양_철학_윤리',\n",
       " '79': '회계_세무',\n",
       " '80': '지구과학',\n",
       " '81': '음악사',\n",
       " '82': '공예',\n",
       " '83': '유럽',\n",
       " '84': '세계문학',\n",
       " '85': '한국',\n",
       " '86': '유럽_역사_문화',\n",
       " '87': '바둑',\n",
       " '88': '기독교',\n",
       " '89': '중동',\n",
       " '90': '기업_브랜드'}"
      ]
     },
     "execution_count": 2,
     "metadata": {},
     "output_type": "execute_result"
    }
   ],
   "source": [
    "topic"
   ]
  },
  {
   "cell_type": "code",
   "execution_count": 3,
   "metadata": {},
   "outputs": [],
   "source": [
    "max_word =20000\n",
    "max_len = 1000 #max_len = 500"
   ]
  },
  {
   "cell_type": "code",
   "execution_count": 4,
   "metadata": {},
   "outputs": [],
   "source": [
    "str_ = u'''삼위일체의 부정[편집] 기독교에서는 삼위일체 논리에 따라 예수 그리스도를 하나님의 아들이자 하나님의 구성요소로 보고 있으나, \n",
    "이슬람은 이를 기독교인들이 하나님을 신성모독하고 아브라함 계통의 종교에서 가장 금기시하는 우상숭배를 하는 것으로 간주한다.\n",
    "'''"
   ]
  },
  {
   "cell_type": "markdown",
   "metadata": {},
   "source": [
    "### 1차 preprocessing\n",
    "* 한국어, 영어, 숫자만 남기고 모두 제거!"
   ]
  },
  {
   "cell_type": "code",
   "execution_count": 11,
   "metadata": {},
   "outputs": [],
   "source": [
    "import re\n",
    "str_ = re.sub('[^A-Za-z0-9가-힣.]', ' ', str_)\n",
    "str_ = re.sub(' +', ' ', str_)"
   ]
  },
  {
   "cell_type": "markdown",
   "metadata": {},
   "source": [
    "### 2차 mecab을 이용하여 단어만 추출 + stopword들은 제거하기"
   ]
  },
  {
   "cell_type": "code",
   "execution_count": 12,
   "metadata": {},
   "outputs": [],
   "source": [
    "from konlpy.tag import Mecab\n",
    "mecab = Mecab()"
   ]
  },
  {
   "cell_type": "code",
   "execution_count": 13,
   "metadata": {},
   "outputs": [],
   "source": [
    "# stop word 불러오기\n",
    "path ='./korean_stopwords.txt'\n",
    "f = open(path, 'r', encoding='utf-8')\n",
    "stop_words = []\n",
    "while True:\n",
    "    line = f.readline()\n",
    "    if not line: break\n",
    "    stop_words.append(line.split()[0])\n",
    "f.close()"
   ]
  },
  {
   "cell_type": "code",
   "execution_count": 14,
   "metadata": {},
   "outputs": [],
   "source": [
    "temp = mecab.nouns(str_)\n",
    "temp = [i for i in temp if i not in stop_words and i != '.']"
   ]
  },
  {
   "cell_type": "code",
   "execution_count": 15,
   "metadata": {},
   "outputs": [
    {
     "data": {
      "text/plain": [
       "24"
      ]
     },
     "execution_count": 15,
     "metadata": {},
     "output_type": "execute_result"
    }
   ],
   "source": [
    "len(temp)"
   ]
  },
  {
   "cell_type": "code",
   "execution_count": 16,
   "metadata": {},
   "outputs": [
    {
     "data": {
      "text/plain": [
       "['삼위일체',\n",
       " '부정',\n",
       " '편집',\n",
       " '기독교',\n",
       " '삼위일체',\n",
       " '논리',\n",
       " '예수',\n",
       " '그리스도',\n",
       " '하나님',\n",
       " '아들',\n",
       " '하나님',\n",
       " '구성',\n",
       " '요소',\n",
       " '이슬람',\n",
       " '기독교']"
      ]
     },
     "execution_count": 16,
     "metadata": {},
     "output_type": "execute_result"
    }
   ],
   "source": [
    "temp[:15]"
   ]
  },
  {
   "cell_type": "code",
   "execution_count": 17,
   "metadata": {},
   "outputs": [
    {
     "name": "stdout",
     "output_type": "stream",
     "text": [
      "[[7729, 452, 1855, 596, 7729, 725, 685, 951, 383, 210, 383, 49, 266, 432, 596, 383, 5207, 967, 129, 17017, 2398, 1868, 777]]\n"
     ]
    }
   ],
   "source": [
    "sequences_6m = tokenizer.texts_to_sequences([temp])\n",
    "print(sequences_6m)\n",
    "sequences_matrix_6m = sequence.pad_sequences(sequences_6m, maxlen=max_len)\n",
    "topic_idx = model.predict_classes(sequences_matrix_6m)"
   ]
  },
  {
   "cell_type": "code",
   "execution_count": 18,
   "metadata": {},
   "outputs": [
    {
     "ename": "KeyError",
     "evalue": "88",
     "output_type": "error",
     "traceback": [
      "\u001b[0;31m---------------------------------------------------------------------------\u001b[0m",
      "\u001b[0;31mKeyError\u001b[0m                                  Traceback (most recent call last)",
      "\u001b[0;32m<ipython-input-18-47e4aa3ab08b>\u001b[0m in \u001b[0;36m<module>\u001b[0;34m\u001b[0m\n\u001b[0;32m----> 1\u001b[0;31m \u001b[0mtopic\u001b[0m\u001b[0;34m[\u001b[0m\u001b[0mtopic_idx\u001b[0m\u001b[0;34m[\u001b[0m\u001b[0;36m0\u001b[0m\u001b[0;34m]\u001b[0m\u001b[0;34m]\u001b[0m\u001b[0;34m\u001b[0m\u001b[0;34m\u001b[0m\u001b[0m\n\u001b[0m",
      "\u001b[0;31mKeyError\u001b[0m: 88"
     ]
    }
   ],
   "source": [
    "topic[topic_idx[0]]"
   ]
  },
  {
   "cell_type": "code",
   "execution_count": null,
   "metadata": {},
   "outputs": [],
   "source": []
  }
 ],
 "metadata": {
  "kernelspec": {
   "display_name": "Python 3",
   "language": "python",
   "name": "python3"
  },
  "language_info": {
   "codemirror_mode": {
    "name": "ipython",
    "version": 3
   },
   "file_extension": ".py",
   "mimetype": "text/x-python",
   "name": "python",
   "nbconvert_exporter": "python",
   "pygments_lexer": "ipython3",
   "version": "3.6.9"
  }
 },
 "nbformat": 4,
 "nbformat_minor": 4
}
